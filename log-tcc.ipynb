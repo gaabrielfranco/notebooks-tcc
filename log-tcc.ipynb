{
 "cells": [
  {
   "cell_type": "markdown",
   "metadata": {},
   "source": [
    "# ia-moba-tcc log\n",
    "\n",
    "### Férias (fev/2018)\n",
    "\n",
    "~~- Decidimos mudar a abordagem do TCC (a base de dados era complicada pra se trabalhar utilizando a abordagem do trabalho do Pedro)~~\n",
    "~~- Fizemos algumas análises dos dados brutos da base (K, D, A, denies, hero_damage, hero_healing, LH, gpm, xp_p_min)~~\n",
    "- Consideramos que gpm e xp_p_min são representadas já pelos outros atributos, então retiramos das próximas análises\n",
    "- Consideramos que hero_damage e hero_healing não eram muito complementares e retiramos das próximas análises\n",
    "- Clusterizamos utilizando K-means com k=[3, 4, 5], considerando todos os atributos (\"kills\", \"deaths\", \"assists\", \"denies\", \"lh\") e só o kda e com e sem podas de outliers, normalizando os dados pelo numero de partidas e por normalização min-max\n",
    "- Plotamos vários bloxplot's com os dados dos diferentes tipos de cluster com esses atributos\n",
    "- Depois de uma análise dos bloxplot's, resolvemos rodar alguns experimentos. São eles: kdlh, everyone, 5best, 2best, best, wtf e wohd\n",
    "- Os resultados preliminares não foram muito animadores: pelo que parece o hero_damage descreve a base inteira. A classificação best (apenas considerando o hero damage) teve a menor inércia com uma boa distribuição entre os clusters. Wtf e wohd tiveram uma inércia ainda menor, mas existiam clusteres vazios ou quase vazios, o que torna ruim a classificação\n"
   ]
  },
  {
   "cell_type": "markdown",
   "metadata": {
    "collapsed": true
   },
   "source": [
    "# Log de férias (fev/2018)"
   ]
  },
  {
   "cell_type": "markdown",
   "metadata": {},
   "source": [
    "### Mudança de abordagem e análises preliminares\n",
    "\n",
    "- A primeira decisão que tivemos foi mudar a abordagem do TCC. O motivo é que a base é complicada para trabalhar utilizando a abordagem de redes complexas do trabalho do Pedro.\n",
    "- Fizemos algumas análises dos dados brutos existentes na base de dados. São eles: kills, deaths, assists, denies, hero_damage, hero_healing, last_hits, gold_p_min, xp_p_min"
   ]
  },
  {
   "cell_type": "markdown",
   "metadata": {},
   "source": [
    "##### Um exemplo dessas análises para o atributo kills"
   ]
  },
  {
   "cell_type": "code",
   "execution_count": 37,
   "metadata": {
    "collapsed": true
   },
   "outputs": [],
   "source": [
    "import pandas as pd"
   ]
  },
  {
   "cell_type": "code",
   "execution_count": 53,
   "metadata": {},
   "outputs": [
    {
     "name": "stdout",
     "output_type": "stream",
     "text": [
      "Output kills\n",
      "\n",
      "\n",
      "Sumario de valores normalizados por partida\n",
      "media: 5.1516093834\n",
      "desvio: 2.9861829555\n",
      "coef_var: 0.5796602058\n",
      "min: 0.0\n",
      "max: 80.4285714286\n",
      "===================================================================\n",
      "\n",
      "Antes da poda de outliers com normalizacao min-max\n",
      "media: 0.0248964763\n",
      "desvio: 0.0560195631\n",
      "coef_var: 2.2501000683\n",
      "min: 0.0\n",
      "max: 1.0\n",
      "===================================================================\n",
      "\n",
      "Depois da poda de outliers com normalizacao min-max\n",
      "media: 0.0176794578\n",
      "desvio: 0.0193576019\n",
      "coef_var: 1.0949205647\n",
      "min: 0.0\n",
      "max: 0.1367851623\n",
      "===================================================================\n",
      "\n",
      "Antes da poda de outliers com normalizacao por partidas e min-max\n",
      "media: 0.0640519817\n",
      "desvio: 0.0371283849\n",
      "coef_var: 0.5796602058\n",
      "min: 0.0\n",
      "max: 1.0\n",
      "===================================================================\n",
      "\n",
      "Depois da poda de outliers com normalizacao por partidas e min-max\n",
      "media: 0.0609254438\n",
      "desvio: 0.0297928023\n",
      "coef_var: 0.4890042725\n",
      "min: 0.0\n",
      "max: 0.13825932500000002\n",
      "===================================================================\n",
      "\n"
     ]
    }
   ],
   "source": [
    "data = pd.read_json('data/output_attribute_analysis.json')\n",
    "data_kills = pd.DataFrame(data[\"kills\"])\n",
    "\n",
    "print(\"Output kills\\n\\n\")\n",
    "\n",
    "for key, value in data_kills.items():\n",
    "    for k, v in value.items():\n",
    "        for i, j in v.items():\n",
    "            print(j) if i == \"label\" else print(i, j, sep=': ')\n",
    "        print(\"===================================================================\\n\")\n"
   ]
  },
  {
   "cell_type": "markdown",
   "metadata": {},
   "source": [
    "### Resultados das análises e decisão do próximo passo"
   ]
  },
  {
   "cell_type": "markdown",
   "metadata": {},
   "source": []
  }
 ],
 "metadata": {
  "kernelspec": {
   "display_name": "Python 3",
   "language": "python",
   "name": "python3"
  },
  "language_info": {
   "codemirror_mode": {
    "name": "ipython",
    "version": 3
   },
   "file_extension": ".py",
   "mimetype": "text/x-python",
   "name": "python",
   "nbconvert_exporter": "python",
   "pygments_lexer": "ipython3",
   "version": "3.6.1"
  }
 },
 "nbformat": 4,
 "nbformat_minor": 2
}

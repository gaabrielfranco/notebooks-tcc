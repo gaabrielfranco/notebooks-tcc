{
 "cells": [
  {
   "cell_type": "markdown",
   "metadata": {},
   "source": [
    "# ia-moba-tcc log\n",
    "\n",
    "### Férias (fev/2018)\n",
    "\n",
    "- Decidimos mudar a abordagem do TCC (a base de dados era complicada pra se trabalhar utilizando a abordagem do trabalho do Pedro)\n",
    "- Fizemos algumas análises dos dados brutos da base (K, D, A, denies, LH, gpm, xp_p_min)\n",
    "- Consideramos que gpm e xp_p_min são representadas já pelos outros atributos, então retiramos das próximas análises\n",
    "- Clusterizamos utilizando K-means com k=[3, 4, 5], considerando todos os atributos e só o kda e com e sem podas de outliers, normalizando os dados pelo numero de partidas e por normalização min-max\n",
    "- Plotamos vários bloxplot's com os dados dos diferentes tipos de cluster com esses atributos"
   ]
  },
  {
   "cell_type": "code",
   "execution_count": null,
   "metadata": {
    "collapsed": true
   },
   "outputs": [],
   "source": []
  }
 ],
 "metadata": {
  "kernelspec": {
   "display_name": "Python 3",
   "language": "python",
   "name": "python3"
  },
  "language_info": {
   "codemirror_mode": {
    "name": "ipython",
    "version": 3
   },
   "file_extension": ".py",
   "mimetype": "text/x-python",
   "name": "python",
   "nbconvert_exporter": "python",
   "pygments_lexer": "ipython3",
   "version": "3.6.1"
  }
 },
 "nbformat": 4,
 "nbformat_minor": 2
}

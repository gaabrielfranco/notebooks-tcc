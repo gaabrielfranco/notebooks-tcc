{
 "cells": [
  {
   "cell_type": "markdown",
   "metadata": {
    "slideshow": {
     "slide_type": "slide"
    }
   },
   "source": [
    "# Utilização de mineração de dados para propor métricas de avaliação de jogadores de DOTA2\n",
    "#### Gabriel Franco\n",
    "#### Orientadores: Marcos Ribeiro e Giovanni Comarela"
   ]
  },
  {
   "cell_type": "markdown",
   "metadata": {
    "slideshow": {
     "slide_type": "slide"
    }
   },
   "source": [
    "## Sumário\n",
    "- Contextualizando\n",
    "- Métricas\n",
    "- Workflow\n",
    "- Evolução do trabalho\n",
    "- Conclusões e próximos passos\n",
    "- Trabalhos futuros"
   ]
  },
  {
   "cell_type": "markdown",
   "metadata": {
    "slideshow": {
     "slide_type": "slide"
    }
   },
   "source": [
    "## Contextualizando"
   ]
  },
  {
   "cell_type": "markdown",
   "metadata": {
    "slideshow": {
     "slide_type": "subslide"
    }
   },
   "source": [
    "- **DOTA2**: Jogo de MOBA (*Multiplayer Online Battle Arena*) onde o jogador controla um personagem em uma batalha entre dois times de cinco jogadores cada, cujo objetivo é derrotar a base principal inimiga"
   ]
  },
  {
   "cell_type": "markdown",
   "metadata": {
    "slideshow": {
     "slide_type": "subslide"
    }
   },
   "source": [
    "- **Objetivo:** Propor métricas para avaliar diferentes estilos e perfis de jogadores"
   ]
  },
  {
   "cell_type": "markdown",
   "metadata": {
    "slideshow": {
     "slide_type": "slide"
    }
   },
   "source": [
    "## Métricas"
   ]
  },
  {
   "cell_type": "markdown",
   "metadata": {
    "slideshow": {
     "slide_type": "fragment"
    }
   },
   "source": [
    "$$f_{kda} = \\frac {assists + kills} {1 + deaths}$$"
   ]
  },
  {
   "cell_type": "markdown",
   "metadata": {
    "slideshow": {
     "slide_type": "fragment"
    }
   },
   "source": [
    "$$f_{adg} = \\frac {assists + denies + gpm + hh} {1 + deaths}$$"
   ]
  },
  {
   "cell_type": "markdown",
   "metadata": {
    "slideshow": {
     "slide_type": "fragment"
    }
   },
   "source": [
    "$$f_{g} = \\frac {gpm + hh} {1 + deaths}$$"
   ]
  },
  {
   "cell_type": "markdown",
   "metadata": {
    "slideshow": {
     "slide_type": "fragment"
    }
   },
   "source": [
    "$$f_{x} = \\frac {xpm + hh} {1 + deaths}$$"
   ]
  },
  {
   "cell_type": "markdown",
   "metadata": {
    "slideshow": {
     "slide_type": "slide"
    }
   },
   "source": [
    "## Workflow"
   ]
  },
  {
   "cell_type": "markdown",
   "metadata": {},
   "source": [
    "![title](data/workflow-geral.png)\n",
    "\n",
    "<div align=\"center\"><b><h4>Figura 1 - Workflow resumido de todo o trabalho</h4></b></div>"
   ]
  },
  {
   "cell_type": "markdown",
   "metadata": {
    "slideshow": {
     "slide_type": "slide"
    }
   },
   "source": [
    "## Evolução do trabalho"
   ]
  },
  {
   "cell_type": "markdown",
   "metadata": {
    "slideshow": {
     "slide_type": "slide"
    }
   },
   "source": [
    "![title](data/radar_plot_top_10_adg.png)\n",
    "\n",
    "<div align=\"center\"><b><h4>Figura 2 - Startplot dos top 10 pela métrica ADG</h4></b></div>"
   ]
  },
  {
   "cell_type": "markdown",
   "metadata": {
    "slideshow": {
     "slide_type": "slide"
    }
   },
   "source": [
    "![title](data/radar_plot_top_10_kda.png)\n",
    "\n",
    "<div align=\"center\"><b><h4>Figura 3 - Startplot dos top 10 pela métrica KDA</h4></b></div>"
   ]
  },
  {
   "cell_type": "markdown",
   "metadata": {
    "slideshow": {
     "slide_type": "slide"
    }
   },
   "source": [
    "![title](data/radar_plot_top_10_g.png)\n",
    "\n",
    "<div align=\"center\"><b><h4>Figura 4 - Startplot dos top 10 pela métrica G</h4></b></div>"
   ]
  },
  {
   "cell_type": "markdown",
   "metadata": {
    "slideshow": {
     "slide_type": "slide"
    }
   },
   "source": [
    "![title](data/radar_plot_top_10_x.png)\n",
    "\n",
    "<div align=\"center\"><b><h4>Figura 5 - Startplot dos top 10 pela métrica X</h4></b></div>"
   ]
  },
  {
   "cell_type": "markdown",
   "metadata": {
    "slideshow": {
     "slide_type": "slide"
    }
   },
   "source": [
    "![title](data/adg_ecdf.png)\n",
    "\n",
    "<div align=\"center\"><b><h4>Figura 6 - Função Distribuição Acumulada (FDA) da métrica ADG por cluster</h4></b></div>"
   ]
  },
  {
   "cell_type": "markdown",
   "metadata": {
    "slideshow": {
     "slide_type": "slide"
    }
   },
   "source": [
    "![title](data/kda_ecdf.png)\n",
    "\n",
    "<div align=\"center\"><b><h4>Figura 7 - Função Distribuição Acumulada (FDA) da métrica KDA por cluster</h4></b></div>"
   ]
  },
  {
   "cell_type": "markdown",
   "metadata": {
    "slideshow": {
     "slide_type": "slide"
    }
   },
   "source": [
    "![title](data/g_ecdf.png)\n",
    "\n",
    "<div align=\"center\"><b><h4>Figura 8 - Função Distribuição Acumulada (FDA) da métrica G por cluster</h4></b></div>"
   ]
  },
  {
   "cell_type": "markdown",
   "metadata": {
    "slideshow": {
     "slide_type": "slide"
    }
   },
   "source": [
    "![title](data/x_ecdf.png)\n",
    "\n",
    "<div align=\"center\"><b><h4>Figura 9 - Função Distribuição Acumulada (FDA) da métrica X por cluster</h4></b></div>"
   ]
  },
  {
   "cell_type": "markdown",
   "metadata": {
    "slideshow": {
     "slide_type": "slide"
    }
   },
   "source": [
    "## Conclusões e próximos passos"
   ]
  },
  {
   "cell_type": "markdown",
   "metadata": {
    "slideshow": {
     "slide_type": "fragment"
    }
   },
   "source": [
    "- A métrica ADG é a mais genérica e representa melhor os diferentes perfis de jogadores"
   ]
  },
  {
   "cell_type": "markdown",
   "metadata": {
    "slideshow": {
     "slide_type": "fragment"
    }
   },
   "source": [
    "- Terminar o artigo e submeter para a SBGames"
   ]
  },
  {
   "cell_type": "markdown",
   "metadata": {
    "slideshow": {
     "slide_type": "subslide"
    }
   },
   "source": [
    "![title](data/sbgames.jpg)\n",
    "\n",
    "<div align=\"center\"><b><h4>Figura 10 - SBGames 2018</h4></b></div>"
   ]
  },
  {
   "cell_type": "markdown",
   "metadata": {
    "slideshow": {
     "slide_type": "slide"
    }
   },
   "source": [
    "## Trabalhos futuros"
   ]
  },
  {
   "cell_type": "markdown",
   "metadata": {
    "slideshow": {
     "slide_type": "subslide"
    }
   },
   "source": [
    "- Evoluir o trabalho sobre a métrica, fazendo mais testes para corroborar a ideia de que ela é superior em comparação as existentes. Os testes podem ser feitos inclusive com usuários"
   ]
  },
  {
   "cell_type": "markdown",
   "metadata": {
    "slideshow": {
     "slide_type": "fragment"
    }
   },
   "source": [
    "- No mestrado, tentar fazer previsões de jogos de DOTA2 utilizando redes complexas e/ou aprendizado de máquina. Essa métrica será a forma que iremos utilizar para avaliar os jogadores"
   ]
  },
  {
   "cell_type": "markdown",
   "metadata": {
    "slideshow": {
     "slide_type": "slide"
    }
   },
   "source": [
    "## Agora é curtir a copa e passar em FIS203 bro!"
   ]
  },
  {
   "cell_type": "markdown",
   "metadata": {
    "slideshow": {
     "slide_type": "fragment"
    }
   },
   "source": [
    "![title](data/raffa moreira.jpg)"
   ]
  }
 ],
 "metadata": {
  "celltoolbar": "Slideshow",
  "kernelspec": {
   "display_name": "Python 3",
   "language": "python",
   "name": "python3"
  },
  "language_info": {
   "codemirror_mode": {
    "name": "ipython",
    "version": 3
   },
   "file_extension": ".py",
   "mimetype": "text/x-python",
   "name": "python",
   "nbconvert_exporter": "python",
   "pygments_lexer": "ipython3",
   "version": "3.6.3"
  }
 },
 "nbformat": 4,
 "nbformat_minor": 2
}

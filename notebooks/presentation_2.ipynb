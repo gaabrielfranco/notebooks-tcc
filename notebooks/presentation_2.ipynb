{
 "cells": [
  {
   "cell_type": "markdown",
   "metadata": {
    "slideshow": {
     "slide_type": "slide"
    }
   },
   "source": [
    "# Utilização de mineração de dados para propor métricas de avaliação de jogadores de DOTA2\n",
    "#### Gabriel Franco\n",
    "#### Orientadores: Marcos Ribeiro e Giovanni Comarela"
   ]
  },
  {
   "cell_type": "markdown",
   "metadata": {
    "slideshow": {
     "slide_type": "slide"
    }
   },
   "source": [
    "## Sumário\n",
    "- Contextualizando\n",
    "- Evolução do trabalho\n",
    "    - Seleção de atributos com GRASP\n",
    "    - Definição das métricas\n",
    "    - Começo da avaliação das métricas\n",
    "- Próximos passos\n",
    "- Referências"
   ]
  },
  {
   "cell_type": "markdown",
   "metadata": {
    "slideshow": {
     "slide_type": "slide"
    }
   },
   "source": [
    "## Contextualizando"
   ]
  },
  {
   "cell_type": "markdown",
   "metadata": {
    "slideshow": {
     "slide_type": "subslide"
    }
   },
   "source": [
    "- **DOTA2**: Jogo de MOBA (*Multiplayer Online Battle Arena*) onde o jogador controla um personagem em uma batalha entre dois times de cinco jogadores cada, cujo objetivo é derrotar a base principal inimiga"
   ]
  },
  {
   "cell_type": "markdown",
   "metadata": {
    "slideshow": {
     "slide_type": "subslide"
    }
   },
   "source": [
    "- **Objetivo:** Propor métricas para avaliar diferentes estilos e perfis de jogadores"
   ]
  },
  {
   "cell_type": "markdown",
   "metadata": {
    "slideshow": {
     "slide_type": "slide"
    }
   },
   "source": [
    "## Evolução do trabalho"
   ]
  },
  {
   "cell_type": "markdown",
   "metadata": {
    "slideshow": {
     "slide_type": "subslide"
    }
   },
   "source": [
    "### Seleção de atributos com GRASP"
   ]
  },
  {
   "cell_type": "markdown",
   "metadata": {
    "slideshow": {
     "slide_type": "fragment"
    }
   },
   "source": [
    "- GRASP (*Greedy Randomized Adaptive Search Procedure*) é uma meta-heurística que consiste em criar uma solução inicial e apoós isso, efetuar uma busca local para melhorar a qualidade da solução"
   ]
  },
  {
   "cell_type": "markdown",
   "metadata": {
    "slideshow": {
     "slide_type": "fragment"
    }
   },
   "source": [
    "- De maneira geral, o algoritmo consiste de duas fases: **construção** e **busca local**."
   ]
  },
  {
   "cell_type": "markdown",
   "metadata": {
    "slideshow": {
     "slide_type": "fragment"
    }
   },
   "source": [
    "- **Construção**: tenta-se construir uma solução viável com um método que é um pouco guloso e um pouco aleatório "
   ]
  },
  {
   "cell_type": "markdown",
   "metadata": {
    "slideshow": {
     "slide_type": "fragment"
    }
   },
   "source": [
    "- **Busca local**: consiste em explorar vizinhos de uma solução até encontrar uma solução ótima local"
   ]
  },
  {
   "cell_type": "markdown",
   "metadata": {
    "slideshow": {
     "slide_type": "fragment"
    }
   },
   "source": [
    "- Essas duas fases são repetidas por um certo número de iterações"
   ]
  },
  {
   "cell_type": "markdown",
   "metadata": {
    "slideshow": {
     "slide_type": "fragment"
    }
   },
   "source": [
    "- Intuitivamente, o algoritmo sorteia pontos no espaço de soluções, quase que aleatoriamente (não é totalmente aleatório devido ao fator guloso, que tende a sortear soluções de melhor custo). Aí a busca local faz o trabalho de achar o ótimo local a partir de cada um desses pontos"
   ]
  },
  {
   "cell_type": "markdown",
   "metadata": {
    "slideshow": {
     "slide_type": "fragment"
    }
   },
   "source": [
    "- Observe que as iterações são independentes entre si"
   ]
  },
  {
   "cell_type": "markdown",
   "metadata": {
    "slideshow": {
     "slide_type": "fragment"
    }
   },
   "source": [
    "# melhorar descrição do grasp, colocar o que nós fizemos no trabalho pro custo de inserção e mostrar resultados (lembrar da correlação)"
   ]
  },
  {
   "cell_type": "code",
   "execution_count": null,
   "metadata": {},
   "outputs": [],
   "source": []
  },
  {
   "cell_type": "markdown",
   "metadata": {},
   "source": [
    "| Ranking |\n",
    "|:-------:|\n",
    "|  **deaths** |\n",
    "|    **hh**   |\n",
    "|  **denies** |\n",
    "| **assists** |\n",
    "|   **gpm**   |\n",
    "|   xpm   |\n",
    "|    lh   |\n",
    "|  kills  |\n",
    "|    hd   |"
   ]
  },
  {
   "cell_type": "markdown",
   "metadata": {
    "slideshow": {
     "slide_type": "slide"
    }
   },
   "source": [
    "## Definição das métricas"
   ]
  },
  {
   "attachments": {},
   "cell_type": "markdown",
   "metadata": {
    "slideshow": {
     "slide_type": "subslide"
    }
   },
   "source": []
  }
 ],
 "metadata": {
  "celltoolbar": "Slideshow",
  "kernelspec": {
   "display_name": "Python 3",
   "language": "python",
   "name": "python3"
  },
  "language_info": {
   "codemirror_mode": {
    "name": "ipython",
    "version": 3
   },
   "file_extension": ".py",
   "mimetype": "text/x-python",
   "name": "python",
   "nbconvert_exporter": "python",
   "pygments_lexer": "ipython3",
   "version": "3.6.5"
  }
 },
 "nbformat": 4,
 "nbformat_minor": 2
}

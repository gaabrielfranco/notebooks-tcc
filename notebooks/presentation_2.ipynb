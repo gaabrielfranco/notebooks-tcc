{
 "cells": [
  {
   "cell_type": "markdown",
   "metadata": {
    "slideshow": {
     "slide_type": "slide"
    }
   },
   "source": [
    "# Utilização de mineração de dados para propor métricas de avaliação de jogadores de DOTA2\n",
    "#### Gabriel Franco\n",
    "#### Orientadores: Marcos Ribeiro e Giovanni Comarela"
   ]
  },
  {
   "cell_type": "markdown",
   "metadata": {
    "slideshow": {
     "slide_type": "slide"
    }
   },
   "source": [
    "## Sumário\n",
    "- Contextualizando\n",
    "- Evolução do trabalho\n",
    "    - Seleção de atributos com GRASP\n",
    "    - Definição das métricas\n",
    "    - Começo da avaliação das métricas\n",
    "- Próximos passos\n",
    "- Referências"
   ]
  },
  {
   "cell_type": "markdown",
   "metadata": {
    "slideshow": {
     "slide_type": "slide"
    }
   },
   "source": [
    "## Contextualizando"
   ]
  },
  {
   "cell_type": "markdown",
   "metadata": {
    "slideshow": {
     "slide_type": "subslide"
    }
   },
   "source": [
    "- **DOTA2**: Jogo de MOBA (*Multiplayer Online Battle Arena*) onde o jogador controla um personagem em uma batalha entre dois times de cinco jogadores cada, cujo objetivo é derrotar a base principal inimiga"
   ]
  },
  {
   "cell_type": "markdown",
   "metadata": {
    "slideshow": {
     "slide_type": "subslide"
    }
   },
   "source": [
    "- **Objetivo:** Propor métricas para avaliar diferentes estilos e perfis de jogadores"
   ]
  },
  {
   "cell_type": "markdown",
   "metadata": {
    "slideshow": {
     "slide_type": "slide"
    }
   },
   "source": [
    "## Evolução do trabalho"
   ]
  },
  {
   "cell_type": "markdown",
   "metadata": {
    "slideshow": {
     "slide_type": "subslide"
    }
   },
   "source": [
    "### Seleção de atributos com GRASP"
   ]
  },
  {
   "cell_type": "markdown",
   "metadata": {
    "slideshow": {
     "slide_type": "fragment"
    }
   },
   "source": [
    "- GRASP (*Greedy Randomized Adaptive Search Procedure*) é uma meta-heurística que consiste em criar uma solução inicial e apoós isso, efetuar uma busca local para melhorar a qualidade da solução"
   ]
  },
  {
   "cell_type": "markdown",
   "metadata": {
    "slideshow": {
     "slide_type": "fragment"
    }
   },
   "source": [
    "- De maneira geral, o algoritmo consiste de duas fases: **construção** e **busca local**."
   ]
  },
  {
   "cell_type": "markdown",
   "metadata": {
    "slideshow": {
     "slide_type": "fragment"
    }
   },
   "source": [
    "- **Construção**: tenta-se construir uma solução viável com um método que é um pouco guloso e um pouco aleatório "
   ]
  },
  {
   "cell_type": "markdown",
   "metadata": {
    "slideshow": {
     "slide_type": "fragment"
    }
   },
   "source": [
    "- **Busca local**: consiste em explorar vizinhos de uma solução até encontrar uma solução ótima local"
   ]
  },
  {
   "cell_type": "markdown",
   "metadata": {
    "slideshow": {
     "slide_type": "fragment"
    }
   },
   "source": [
    "- Essas duas fases são repetidas por um certo número de iterações"
   ]
  },
  {
   "cell_type": "markdown",
   "metadata": {
    "slideshow": {
     "slide_type": "fragment"
    }
   },
   "source": [
    "- Intuitivamente, o algoritmo sorteia pontos no espaço de soluções, quase que aleatoriamente (não é totalmente aleatório devido ao fator guloso, que tende a sortear soluções de melhor custo). Aí a busca local faz o trabalho de achar o ótimo local a partir de cada um desses pontos"
   ]
  },
  {
   "cell_type": "markdown",
   "metadata": {
    "slideshow": {
     "slide_type": "fragment"
    }
   },
   "source": [
    "- Observe que as iterações são independentes entre si"
   ]
  },
  {
   "cell_type": "markdown",
   "metadata": {
    "slideshow": {
     "slide_type": "fragment"
    }
   },
   "source": [
    "# melhorar descrição do grasp, colocar o que nós fizemos no trabalho pro custo de inserção e mostrar resultados (lembrar da correlação)"
   ]
  },
  {
   "cell_type": "markdown",
   "metadata": {
    "slideshow": {
     "slide_type": "subslide"
    }
   },
   "source": [
    "<style type=\"text/css\">\n",
    ".tg  {border-collapse:collapse;border-spacing:0;border-color:#ccc;}\n",
    ".tg td{font-family:Arial, sans-serif;font-size:14px;padding:10px 5px;border-style:solid;border-width:1px;overflow:hidden;word-break:normal;border-color:#ccc;color:#333;background-color:#fff;}\n",
    ".tg th{font-family:Arial, sans-serif;font-size:14px;font-weight:normal;padding:10px 5px;border-style:solid;border-width:1px;overflow:hidden;word-break:normal;border-color:#ccc;color:#333;background-color:#f0f0f0;}\n",
    ".tg .tg-ik53{background-color:#f8ff00;border-color:inherit;vertical-align:top}\n",
    ".tg .tg-4lej{background-color:#f8ff00;color:#000000;border-color:inherit;vertical-align:top}\n",
    ".tg .tg-dc35{background-color:#f9f9f9;border-color:inherit;vertical-align:top}\n",
    ".tg .tg-us36{border-color:inherit;vertical-align:top}\n",
    ".tg .tg-1tci{background-color:#f8ff00;color:#000000;border-color:inherit;vertical-align:top}\n",
    ".tg .tg-gf7a{background-color:#f8ff00;border-color:inherit;vertical-align:top}\n",
    ".tg .tg-x8ax{background-color:#fe0000;border-color:inherit;vertical-align:top}\n",
    ".tg .tg-9hbo{font-weight:bold;vertical-align:top}\n",
    ".tg .tg-yw4l{vertical-align:top}\n",
    "</style>\n",
    "<table class=\"tg\">\n",
    "  <tr>\n",
    "    <th class=\"tg-us36\">Solution</th>\n",
    "    <th class=\"tg-us36\" colspan=\"9\">Binary Representation</th>\n",
    "    <th class=\"tg-us36\" colspan=\"3\">Solution Evaluation</th>\n",
    "  </tr>\n",
    "  <tr>\n",
    "    <td class=\"tg-dc35\"></td>\n",
    "    <td class=\"tg-dc35\">assists</td>\n",
    "    <td class=\"tg-dc35\">deaths</td>\n",
    "    <td class=\"tg-dc35\">denies</td>\n",
    "    <td class=\"tg-dc35\">gpm</td>\n",
    "    <td class=\"tg-dc35\">hd</td>\n",
    "    <td class=\"tg-dc35\">hh</td>\n",
    "    <td class=\"tg-dc35\">kills</td>\n",
    "    <td class=\"tg-dc35\">lh</td>\n",
    "    <td class=\"tg-dc35\">xpm</td>\n",
    "    <td class=\"tg-dc35\">Fitness</td>\n",
    "    <td class=\"tg-dc35\">Attributes</td>\n",
    "    <td class=\"tg-dc35\">Normed Fitness</td>\n",
    "  </tr>\n",
    "  <tr>\n",
    "    <td class=\"tg-us36\">deaths,gpm,hh</td>\n",
    "    <td class=\"tg-us36\">0</td>\n",
    "    <td class=\"tg-4lej\">1</td>\n",
    "    <td class=\"tg-us36\">0</td>\n",
    "    <td class=\"tg-ik53\">1</td>\n",
    "    <td class=\"tg-us36\">0</td>\n",
    "    <td class=\"tg-ik53\">1</td>\n",
    "    <td class=\"tg-us36\">0</td>\n",
    "    <td class=\"tg-us36\">0</td>\n",
    "    <td class=\"tg-us36\">0</td>\n",
    "    <td class=\"tg-us36\">0.189951</td>\n",
    "    <td class=\"tg-us36\">3</td>\n",
    "    <td class=\"tg-us36\">1.000000</td>\n",
    "  </tr>\n",
    "  <tr>\n",
    "    <td class=\"tg-dc35\">deaths,hh,xpm</td>\n",
    "    <td class=\"tg-dc35\">0</td>\n",
    "    <td class=\"tg-1tci\">1</td>\n",
    "    <td class=\"tg-dc35\">0</td>\n",
    "    <td class=\"tg-dc35\">0</td>\n",
    "    <td class=\"tg-dc35\">0</td>\n",
    "    <td class=\"tg-gf7a\">1</td>\n",
    "    <td class=\"tg-dc35\">0</td>\n",
    "    <td class=\"tg-dc35\">0</td>\n",
    "    <td class=\"tg-gf7a\">1</td>\n",
    "    <td class=\"tg-dc35\">0.187349</td>\n",
    "    <td class=\"tg-dc35\">3</td>\n",
    "    <td class=\"tg-dc35\">0.966041</td>\n",
    "  </tr>\n",
    "  <tr>\n",
    "    <td class=\"tg-us36\">deaths,denies,hh,xpm</td>\n",
    "    <td class=\"tg-us36\">0</td>\n",
    "    <td class=\"tg-4lej\">1</td>\n",
    "    <td class=\"tg-ik53\">1</td>\n",
    "    <td class=\"tg-us36\">0</td>\n",
    "    <td class=\"tg-us36\">0</td>\n",
    "    <td class=\"tg-ik53\">1</td>\n",
    "    <td class=\"tg-us36\">0</td>\n",
    "    <td class=\"tg-us36\">0</td>\n",
    "    <td class=\"tg-ik53\">1</td>\n",
    "    <td class=\"tg-us36\">0.170163</td>\n",
    "    <td class=\"tg-us36\">4</td>\n",
    "    <td class=\"tg-us36\">0.741745</td>\n",
    "  </tr>\n",
    "  <tr>\n",
    "    <td class=\"tg-dc35\">assists,deaths,gpm,hh</td>\n",
    "    <td class=\"tg-gf7a\">1</td>\n",
    "    <td class=\"tg-1tci\">1</td>\n",
    "    <td class=\"tg-dc35\">0</td>\n",
    "    <td class=\"tg-gf7a\">1</td>\n",
    "    <td class=\"tg-dc35\">0</td>\n",
    "    <td class=\"tg-gf7a\">1</td>\n",
    "    <td class=\"tg-dc35\">0</td>\n",
    "    <td class=\"tg-dc35\">0</td>\n",
    "    <td class=\"tg-dc35\">0</td>\n",
    "    <td class=\"tg-dc35\">0.150208</td>\n",
    "    <td class=\"tg-dc35\">4</td>\n",
    "    <td class=\"tg-dc35\">0.481311</td>\n",
    "  </tr>\n",
    "  <tr>\n",
    "    <td class=\"tg-us36\">deaths,denies,gpm,hh</td>\n",
    "    <td class=\"tg-us36\">0</td>\n",
    "    <td class=\"tg-4lej\">1</td>\n",
    "    <td class=\"tg-ik53\">1</td>\n",
    "    <td class=\"tg-ik53\">1</td>\n",
    "    <td class=\"tg-us36\">0</td>\n",
    "    <td class=\"tg-ik53\">1</td>\n",
    "    <td class=\"tg-us36\">0</td>\n",
    "    <td class=\"tg-us36\">0</td>\n",
    "    <td class=\"tg-us36\">0</td>\n",
    "    <td class=\"tg-us36\">0.149013</td>\n",
    "    <td class=\"tg-us36\">4</td>\n",
    "    <td class=\"tg-us36\">0.465715</td>\n",
    "  </tr>\n",
    "  <tr>\n",
    "    <td class=\"tg-x8ax\">assists,deaths,denies,gpm,hh</td>\n",
    "    <td class=\"tg-gf7a\">1</td>\n",
    "    <td class=\"tg-1tci\">1</td>\n",
    "    <td class=\"tg-gf7a\">1</td>\n",
    "    <td class=\"tg-gf7a\">1</td>\n",
    "    <td class=\"tg-dc35\">0</td>\n",
    "    <td class=\"tg-gf7a\">1</td>\n",
    "    <td class=\"tg-dc35\">0</td>\n",
    "    <td class=\"tg-dc35\">0</td>\n",
    "    <td class=\"tg-dc35\">0</td>\n",
    "    <td class=\"tg-dc35\">0.145158</td>\n",
    "    <td class=\"tg-dc35\">5</td>\n",
    "    <td class=\"tg-dc35\">0.415403</td>\n",
    "  </tr>\n",
    "  <tr>\n",
    "    <td class=\"tg-us36\">assists,deaths,hh,lh</td>\n",
    "    <td class=\"tg-ik53\">1</td>\n",
    "    <td class=\"tg-4lej\">1</td>\n",
    "    <td class=\"tg-us36\">0</td>\n",
    "    <td class=\"tg-us36\">0</td>\n",
    "    <td class=\"tg-us36\">0</td>\n",
    "    <td class=\"tg-ik53\">1</td>\n",
    "    <td class=\"tg-us36\">0</td>\n",
    "    <td class=\"tg-ik53\">1</td>\n",
    "    <td class=\"tg-us36\">0</td>\n",
    "    <td class=\"tg-us36\">0.130658</td>\n",
    "    <td class=\"tg-us36\">4</td>\n",
    "    <td class=\"tg-us36\">0.226162</td>\n",
    "  </tr>\n",
    "  <tr>\n",
    "    <td class=\"tg-dc35\">deaths,denies,hh,kills</td>\n",
    "    <td class=\"tg-dc35\">0</td>\n",
    "    <td class=\"tg-1tci\">1</td>\n",
    "    <td class=\"tg-gf7a\">1</td>\n",
    "    <td class=\"tg-dc35\">0</td>\n",
    "    <td class=\"tg-dc35\">0</td>\n",
    "    <td class=\"tg-gf7a\">1</td>\n",
    "    <td class=\"tg-gf7a\">1</td>\n",
    "    <td class=\"tg-dc35\">0</td>\n",
    "    <td class=\"tg-dc35\">0</td>\n",
    "    <td class=\"tg-dc35\">0.119486</td>\n",
    "    <td class=\"tg-dc35\">4</td>\n",
    "    <td class=\"tg-dc35\">0.080356</td>\n",
    "  </tr>\n",
    "  <tr>\n",
    "    <td class=\"tg-us36\">assists,deaths,hh,xpm</td>\n",
    "    <td class=\"tg-ik53\">1</td>\n",
    "    <td class=\"tg-4lej\">1</td>\n",
    "    <td class=\"tg-us36\">0</td>\n",
    "    <td class=\"tg-us36\">0</td>\n",
    "    <td class=\"tg-us36\">0</td>\n",
    "    <td class=\"tg-ik53\">1</td>\n",
    "    <td class=\"tg-us36\">0</td>\n",
    "    <td class=\"tg-us36\">0</td>\n",
    "    <td class=\"tg-ik53\">1</td>\n",
    "    <td class=\"tg-us36\">0.119165</td>\n",
    "    <td class=\"tg-us36\">4</td>\n",
    "    <td class=\"tg-us36\">0.076166</td>\n",
    "  </tr>\n",
    "  <tr>\n",
    "    <td class=\"tg-dc35\">assists,deaths,denies,hh</td>\n",
    "    <td class=\"tg-gf7a\">1</td>\n",
    "    <td class=\"tg-1tci\">1</td>\n",
    "    <td class=\"tg-gf7a\">1</td>\n",
    "    <td class=\"tg-dc35\">0</td>\n",
    "    <td class=\"tg-dc35\">0</td>\n",
    "    <td class=\"tg-gf7a\">1</td>\n",
    "    <td class=\"tg-dc35\">0</td>\n",
    "    <td class=\"tg-dc35\">0</td>\n",
    "    <td class=\"tg-dc35\">0</td>\n",
    "    <td class=\"tg-dc35\">0.113329</td>\n",
    "    <td class=\"tg-dc35\">4</td>\n",
    "    <td class=\"tg-dc35\">0.000000</td>\n",
    "  </tr>\n",
    "  <tr>\n",
    "    <td class=\"tg-9hbo\">Attribute Evaluation</td>\n",
    "    <td class=\"tg-yw4l\">44.661</td>\n",
    "    <td class=\"tg-yw4l\">100.000</td>\n",
    "    <td class=\"tg-yw4l\">47.281</td>\n",
    "    <td class=\"tg-yw4l\">43.021</td>\n",
    "    <td class=\"tg-yw4l\">0.000</td>\n",
    "    <td class=\"tg-yw4l\">100.000</td>\n",
    "    <td class=\"tg-yw4l\">8.104</td>\n",
    "    <td class=\"tg-yw4l\">8.861</td>\n",
    "    <td class=\"tg-yw4l\">32.328</td>\n",
    "    <td class=\"tg-yw4l\" colspan=\"3\"></td>\n",
    "  </tr>\n",
    "</table>\n",
    "\n",
    "<div align=\"center\"><b><h4>Tabela 1 - Dez melhores compinações retornadas pelo GRASP</h4></b></div>"
   ]
  },
  {
   "cell_type": "markdown",
   "metadata": {},
   "source": [
    "<style type=\"text/css\">\n",
    ".tg  {border-collapse:collapse;border-spacing:0;}\n",
    ".tg td{font-family:Arial, sans-serif;font-size:14px;padding:10px 5px;border-style:solid;border-width:1px;overflow:hidden;word-break:normal;border-color:black;}\n",
    ".tg th{font-family:Arial, sans-serif;font-size:14px;font-weight:normal;padding:10px 5px;border-style:solid;border-width:1px;overflow:hidden;word-break:normal;border-color:black;}\n",
    ".tg .tg-u00z{background-color:#fe0000;border-color:inherit}\n",
    ".tg .tg-kisl{background-color:#656565;border-color:inherit}\n",
    ".tg .tg-l711{border-color:inherit}\n",
    "</style>\n",
    "<table class=\"tg\">\n",
    "  <tr>\n",
    "    <th class=\"tg-kisl\">Ranking</th>\n",
    "  </tr>\n",
    "  <tr>\n",
    "    <td class=\"tg-u00z\">deaths</td>\n",
    "  </tr>\n",
    "  <tr>\n",
    "    <td class=\"tg-u00z\">hh</td>\n",
    "  </tr>\n",
    "  <tr>\n",
    "    <td class=\"tg-u00z\">denies</td>\n",
    "  </tr>\n",
    "  <tr>\n",
    "    <td class=\"tg-u00z\">assists</td>\n",
    "  </tr>\n",
    "  <tr>\n",
    "    <td class=\"tg-u00z\">gpm</td>\n",
    "  </tr>\n",
    "  <tr>\n",
    "    <td class=\"tg-l711\">xpm</td>\n",
    "  </tr>\n",
    "  <tr>\n",
    "    <td class=\"tg-l711\">lh</td>\n",
    "  </tr>\n",
    "  <tr>\n",
    "    <td class=\"tg-l711\">kills</td>\n",
    "  </tr>\n",
    "  <tr>\n",
    "    <td class=\"tg-l711\">hd</td>\n",
    "  </tr>\n",
    "</table>\n",
    "<div align=\"center\"><b><h4>Tabela 2 - Ranking de avaliação dos atributos</h4></b></div>"
   ]
  },
  {
   "cell_type": "markdown",
   "metadata": {
    "slideshow": {
     "slide_type": "slide"
    }
   },
   "source": [
    "## Definição das métricas"
   ]
  },
  {
   "cell_type": "markdown",
   "metadata": {
    "slideshow": {
     "slide_type": "fragment"
    }
   },
   "source": [
    "$$f_{kda} = \\frac {assists + kills} {1 + deaths}$$"
   ]
  },
  {
   "cell_type": "markdown",
   "metadata": {
    "slideshow": {
     "slide_type": "fragment"
    }
   },
   "source": [
    "$$f_{adg} = \\frac {assists + denies + gpm + hh} {1 + deaths}$$"
   ]
  },
  {
   "cell_type": "markdown",
   "metadata": {
    "slideshow": {
     "slide_type": "fragment"
    }
   },
   "source": [
    "$$f_{g} = \\frac {gpm + hh} {1 + deaths}$$"
   ]
  },
  {
   "cell_type": "markdown",
   "metadata": {
    "slideshow": {
     "slide_type": "fragment"
    }
   },
   "source": [
    "$$f_{x} = \\frac {xpm + hh} {1 + deaths}$$"
   ]
  },
  {
   "cell_type": "markdown",
   "metadata": {
    "slideshow": {
     "slide_type": "slide"
    }
   },
   "source": [
    "## Começo da avaliação das métricas"
   ]
  },
  {
   "cell_type": "code",
   "execution_count": null,
   "metadata": {
    "slideshow": {
     "slide_type": "fragment"
    }
   },
   "outputs": [],
   "source": []
  },
  {
   "cell_type": "markdown",
   "metadata": {
    "slideshow": {
     "slide_type": "slide"
    }
   },
   "source": [
    "## Próximos passos"
   ]
  },
  {
   "cell_type": "markdown",
   "metadata": {
    "slideshow": {
     "slide_type": "fragment"
    }
   },
   "source": [
    "- **Passo 1:** Continuar a avaliar a métrica\n",
    "- **Passo 2:** Redigir artigo"
   ]
  },
  {
   "cell_type": "markdown",
   "metadata": {
    "slideshow": {
     "slide_type": "fragment"
    }
   },
   "source": [
    "| Passos / Mês | Maio | Junho | Julho |\n",
    "|:------------:|:----:|:-----:|:-----:|\n",
    "|       1      |   X  |       |       |\n",
    "|       2      |      |   X   |   X   |\n",
    "  \n",
    "<div align=\"center\"><b><h4>Tabela 2 - Cronograma</h4></b></div>"
   ]
  },
  {
   "cell_type": "markdown",
   "metadata": {
    "slideshow": {
     "slide_type": "slide"
    }
   },
   "source": [
    "## Referências"
   ]
  },
  {
   "cell_type": "markdown",
   "metadata": {
    "slideshow": {
     "slide_type": "fragment"
    }
   },
   "source": [
    "- [Blog do Kunigami - GRASP]. Acesso em 13/05/2018\n",
    "  \n",
    "  \n",
    "- [Clever Algorithms - GRASP]. Acesso em 13/05/2018\n",
    "  \n",
    "\n",
    "- Site do projeto: https://gaabrielfranco.github.io/\n",
    "\n",
    "[Blog do Kunigami - GRASP]: <https://kuniga.wordpress.com/2010/09/03/grasp/>\n",
    "[Clever Algorithms - GRASP]:<http://www.cleveralgorithms.com/nature-inspired/stochastic/grasp.html>\n"
   ]
  },
  {
   "cell_type": "code",
   "execution_count": null,
   "metadata": {},
   "outputs": [],
   "source": []
  }
 ],
 "metadata": {
  "celltoolbar": "Slideshow",
  "kernelspec": {
   "display_name": "Python 3",
   "language": "python",
   "name": "python3"
  },
  "language_info": {
   "codemirror_mode": {
    "name": "ipython",
    "version": 3
   },
   "file_extension": ".py",
   "mimetype": "text/x-python",
   "name": "python",
   "nbconvert_exporter": "python",
   "pygments_lexer": "ipython3",
   "version": "3.6.5"
  }
 },
 "nbformat": 4,
 "nbformat_minor": 2
}

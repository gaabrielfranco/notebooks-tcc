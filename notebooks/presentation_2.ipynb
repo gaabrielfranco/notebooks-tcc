{
 "cells": [
  {
   "cell_type": "markdown",
   "metadata": {
    "slideshow": {
     "slide_type": "slide"
    }
   },
   "source": [
    "# Utilização de mineração de dados para propor métricas de avaliação de jogadores de DOTA2\n",
    "#### Gabriel Franco\n",
    "#### Orientadores: Marcos Ribeiro e Giovanni Comarela"
   ]
  },
  {
   "cell_type": "markdown",
   "metadata": {
    "slideshow": {
     "slide_type": "slide"
    }
   },
   "source": [
    "## Sumário\n",
    "- Contextualizando\n",
    "- Evolução do trabalho\n",
    "    - Seleção de atributos com GRASP  \n",
    "        **1)** O que é GRASP  \n",
    "        **2)** Modelagem: *Set Packing Problem*  \n",
    "        **3)** Custo de Inserção da Solução  \n",
    "        **4)** Penalização de Soluções Inviáveis  \n",
    "        **5)** Algoritmos  \n",
    "    - Coeficiente de correlação tau de Kendall\n",
    "    - Definição das métricas\n",
    "- Próximos passos\n",
    "- Referências"
   ]
  },
  {
   "cell_type": "markdown",
   "metadata": {
    "slideshow": {
     "slide_type": "slide"
    }
   },
   "source": [
    "## Contextualizando"
   ]
  },
  {
   "cell_type": "markdown",
   "metadata": {
    "slideshow": {
     "slide_type": "subslide"
    }
   },
   "source": [
    "- **DOTA2**: Jogo de MOBA (*Multiplayer Online Battle Arena*) onde o jogador controla um personagem em uma batalha entre dois times de cinco jogadores cada, cujo objetivo é derrotar a base principal inimiga"
   ]
  },
  {
   "cell_type": "markdown",
   "metadata": {
    "slideshow": {
     "slide_type": "subslide"
    }
   },
   "source": [
    "- **Objetivo:** Propor métricas para avaliar diferentes estilos e perfis de jogadores"
   ]
  },
  {
   "cell_type": "markdown",
   "metadata": {
    "slideshow": {
     "slide_type": "slide"
    }
   },
   "source": [
    "## Evolução do trabalho"
   ]
  },
  {
   "cell_type": "markdown",
   "metadata": {
    "slideshow": {
     "slide_type": "subslide"
    }
   },
   "source": [
    "### Seleção de atributos com GRASP"
   ]
  },
  {
   "cell_type": "markdown",
   "metadata": {
    "slideshow": {
     "slide_type": "fragment"
    }
   },
   "source": [
    "#### O que é GRASP"
   ]
  },
  {
   "cell_type": "markdown",
   "metadata": {
    "slideshow": {
     "slide_type": "fragment"
    }
   },
   "source": [
    "- GRASP (*Greedy Randomized Adaptive Search Procedure*) é uma meta-heurística que consiste em criar uma solução inicial e após isso, efetuar uma busca local para melhorar a qualidade da solução"
   ]
  },
  {
   "cell_type": "markdown",
   "metadata": {
    "slideshow": {
     "slide_type": "fragment"
    }
   },
   "source": [
    "- De maneira geral, o algoritmo consiste de duas fases: **construção** e **busca local**."
   ]
  },
  {
   "cell_type": "markdown",
   "metadata": {
    "slideshow": {
     "slide_type": "fragment"
    }
   },
   "source": [
    "- **Construção**: tenta-se construir uma solução viável com um método que é um pouco guloso e um pouco aleatório "
   ]
  },
  {
   "cell_type": "markdown",
   "metadata": {
    "slideshow": {
     "slide_type": "fragment"
    }
   },
   "source": [
    "- **Busca local**: consiste em explorar vizinhos de uma solução até encontrar uma solução ótima local"
   ]
  },
  {
   "cell_type": "markdown",
   "metadata": {
    "slideshow": {
     "slide_type": "fragment"
    }
   },
   "source": [
    "- Essas duas fases são repetidas por um certo número de iterações"
   ]
  },
  {
   "cell_type": "markdown",
   "metadata": {
    "slideshow": {
     "slide_type": "subslide"
    }
   },
   "source": [
    "#### Modelagem: *Set Packing Problem*"
   ]
  },
  {
   "cell_type": "markdown",
   "metadata": {
    "slideshow": {
     "slide_type": "fragment"
    }
   },
   "source": [
    "- Consiste em maximizar a métrica de **silhueta** da clusterização dos dados, feita segundo um conjunto $c$ de atributos"
   ]
  },
  {
   "cell_type": "markdown",
   "metadata": {
    "slideshow": {
     "slide_type": "fragment"
    }
   },
   "source": [
    "- Deseja-se encontrar qual é o conjunto $c \\subset S$ que maximize a silhueta, onde:\n",
    "    - $S$ é o conjunto completo, com todos atributos da base\n",
    "    - $tam\\_min \\leq tam(c) \\leq tam\\_max$, parâmetros informados pelo usuário"
   ]
  },
  {
   "cell_type": "markdown",
   "metadata": {
    "slideshow": {
     "slide_type": "fragment"
    }
   },
   "source": [
    "- Ainda, $c$ está sujeito a restrições que consistem em conjuntos de itens que não podem ocorrer simultaneamente na solução do problema"
   ]
  },
  {
   "cell_type": "markdown",
   "metadata": {
    "slideshow": {
     "slide_type": "fragment"
    }
   },
   "source": [
    "- Dois itens não poderão ocorrer simultaneamente em $c$ se sua métrica de correlação for superior a um limite $th$."
   ]
  },
  {
   "cell_type": "markdown",
   "metadata": {
    "slideshow": {
     "slide_type": "fragment"
    }
   },
   "source": [
    "- Nos testes feitos, dois itens $el_{a}$ e $el_{b}$ não poderão ocorrer simultaneamente se $corr(el_{a}, el_{b}) \\geq th = 0,75$"
   ]
  },
  {
   "cell_type": "markdown",
   "metadata": {
    "slideshow": {
     "slide_type": "subslide"
    }
   },
   "source": [
    "- As restrições produzidas serão conjuntos de pares de atributos que não podem estar presentes simultaneamente numa solução"
   ]
  },
  {
   "cell_type": "markdown",
   "metadata": {
    "slideshow": {
     "slide_type": "fragment"
    }
   },
   "source": [
    "- Além destas restrições há a restrição dos tamanhos máximo e mínimo de uma solução"
   ]
  },
  {
   "cell_type": "markdown",
   "metadata": {
    "slideshow": {
     "slide_type": "fragment"
    }
   },
   "source": [
    "- O procedimento de busca local do GRASP penaliza soluções inviáveis de acordo com o número de restrições de pares de conjuntos violadas"
   ]
  },
  {
   "cell_type": "markdown",
   "metadata": {
    "slideshow": {
     "slide_type": "fragment"
    }
   },
   "source": [
    "- Se a restrição de tamanhos máximo e mínimo for violada, aplica-se a penalidade como se a solução tivesse violado todos os pares de restrições, mais um (objetivo: evitar ao máximo estas soluções)"
   ]
  },
  {
   "cell_type": "markdown",
   "metadata": {
    "slideshow": {
     "slide_type": "subslide"
    }
   },
   "source": [
    "#### Custo de Inserção na Solução"
   ]
  },
  {
   "cell_type": "markdown",
   "metadata": {
    "slideshow": {
     "slide_type": "fragment"
    }
   },
   "source": [
    "- O custo $ C_{ins}(i)$ de inserção de um item $i$ em uma solução é dado por:  \n",
    "$$C_{ins}(i) = \\frac{10 \\cdot var(i)}{1 + NR(i)}\\nonumber$$  \n",
    "onde:\n",
    "    - $var(i)$ é a variância do item (atributo) $i$ na base de dados  \n",
    "    - $NR(i)$ é o número de restrições em que $i$ está envolvido"
   ]
  },
  {
   "cell_type": "markdown",
   "metadata": {
    "slideshow": {
     "slide_type": "subslide"
    }
   },
   "source": [
    "#### Penalização de Soluções Inviáveis"
   ]
  },
  {
   "cell_type": "markdown",
   "metadata": {
    "slideshow": {
     "slide_type": "fragment"
    }
   },
   "source": [
    "- O custo de uma solução $c$ é composto pela métrica base da silhueta ($sil$) diminuída de um fator de penalidade ($pen$):\n",
    "$$C_{sol}(c) = sil(\\textit{k-means}(c)) - pen(c)\\nonumber$$  \n",
    "com:  \n",
    "$$pen(c) = log(1 + NV(c))\\nonumber$$  \n",
    "- sendo $NV(c)$ o número de restrições violadas por $c$ (se limites de tamanho, todas $+1$)\n",
    "- Quando $NV(c) = 0$, $pen(c) = 0$"
   ]
  },
  {
   "cell_type": "markdown",
   "metadata": {
    "slideshow": {
     "slide_type": "subslide"
    }
   },
   "source": [
    "#### Algoritmos"
   ]
  },
  {
   "cell_type": "markdown",
   "metadata": {
    "slideshow": {
     "slide_type": "fragment"
    }
   },
   "source": [
    "![title](data/algoritmo_1.PNG)\n",
    "\n",
    "<div align=\"center\"><b><h4>Figura 1 - GRASP para Seleção de Atributos (Set Packing Problem)</h4></b></div>"
   ]
  },
  {
   "cell_type": "markdown",
   "metadata": {
    "slideshow": {
     "slide_type": "subslide"
    }
   },
   "source": [
    "![title](data/algoritmo_2.PNG)\n",
    "\n",
    "<div align=\"center\"><b><h4>Figura 2 - GRASP: Procedimento Construtivo</h4></b></div>"
   ]
  },
  {
   "cell_type": "markdown",
   "metadata": {
    "slideshow": {
     "slide_type": "subslide"
    }
   },
   "source": [
    "![title](data/algoritmo_3.PNG)\n",
    "\n",
    "<div align=\"center\"><b><h4>Figura 3 - GRASP: Busca Local</h4></b></div>"
   ]
  },
  {
   "cell_type": "markdown",
   "metadata": {
    "slideshow": {
     "slide_type": "subslide"
    }
   },
   "source": [
    "![title](data/algoritmo_4.PNG)\n",
    "\n",
    "<div align=\"center\"><b><h4>Figura 4 - GRASP: Atualização da Elite</h4></b></div>"
   ]
  },
  {
   "cell_type": "markdown",
   "metadata": {
    "slideshow": {
     "slide_type": "subslide"
    }
   },
   "source": [
    "<style type=\"text/css\">\n",
    ".tg  {border-collapse:collapse;border-spacing:0;}\n",
    ".tg td{font-family:Arial, sans-serif;font-size:14px;padding:10px 5px;border-style:solid;border-width:1px;overflow:hidden;word-break:normal;border-color:black;}\n",
    ".tg th{font-family:Arial, sans-serif;font-size:14px;font-weight:normal;padding:10px 5px;border-style:solid;border-width:1px;overflow:hidden;word-break:normal;border-color:black;}\n",
    ".tg .tg-yw4l{vertical-align:top}\n",
    "</style>\n",
    "<table class=\"tg\">\n",
    "  <tr>\n",
    "    <th class=\"tg-yw4l\">Solution</th>\n",
    "    <th class=\"tg-yw4l\" colspan=\"9\">Binary Representation</th>\n",
    "    <th class=\"tg-yw4l\">Solution Evaluation</th>\n",
    "  </tr>\n",
    "  <tr>\n",
    "    <td class=\"tg-yw4l\"></td>\n",
    "    <td class=\"tg-yw4l\">assists</td>\n",
    "    <td class=\"tg-yw4l\">deaths</td>\n",
    "    <td class=\"tg-yw4l\">denies</td>\n",
    "    <td class=\"tg-yw4l\">gpm</td>\n",
    "    <td class=\"tg-yw4l\">hd</td>\n",
    "    <td class=\"tg-yw4l\">hh</td>\n",
    "    <td class=\"tg-yw4l\">kills</td>\n",
    "    <td class=\"tg-yw4l\">lh</td>\n",
    "    <td class=\"tg-yw4l\">xpm</td>\n",
    "    <td class=\"tg-yw4l\">Fitness</td>\n",
    "  </tr>\n",
    "  <tr>\n",
    "    <td class=\"tg-yw4l\">deaths,gpm,hh</td>\n",
    "    <td class=\"tg-yw4l\">0</td>\n",
    "    <td class=\"tg-yw4l\">1</td>\n",
    "    <td class=\"tg-yw4l\">0</td>\n",
    "    <td class=\"tg-yw4l\">1</td>\n",
    "    <td class=\"tg-yw4l\">0</td>\n",
    "    <td class=\"tg-yw4l\">1</td>\n",
    "    <td class=\"tg-yw4l\">0</td>\n",
    "    <td class=\"tg-yw4l\">0</td>\n",
    "    <td class=\"tg-yw4l\">0</td>\n",
    "    <td class=\"tg-yw4l\">0.189951</td>\n",
    "  </tr>\n",
    "  <tr>\n",
    "    <td class=\"tg-yw4l\">deaths,hh,xpm</td>\n",
    "    <td class=\"tg-yw4l\">0</td>\n",
    "    <td class=\"tg-yw4l\">1</td>\n",
    "    <td class=\"tg-yw4l\">0</td>\n",
    "    <td class=\"tg-yw4l\">0</td>\n",
    "    <td class=\"tg-yw4l\">0</td>\n",
    "    <td class=\"tg-yw4l\">1</td>\n",
    "    <td class=\"tg-yw4l\">0</td>\n",
    "    <td class=\"tg-yw4l\">0</td>\n",
    "    <td class=\"tg-yw4l\">1</td>\n",
    "    <td class=\"tg-yw4l\">0.187349</td>\n",
    "  </tr>\n",
    "  <tr>\n",
    "    <td class=\"tg-yw4l\">deaths,denies,hh,xpm</td>\n",
    "    <td class=\"tg-yw4l\">0</td>\n",
    "    <td class=\"tg-yw4l\">1</td>\n",
    "    <td class=\"tg-yw4l\">1</td>\n",
    "    <td class=\"tg-yw4l\">0</td>\n",
    "    <td class=\"tg-yw4l\">0</td>\n",
    "    <td class=\"tg-yw4l\">1</td>\n",
    "    <td class=\"tg-yw4l\">0</td>\n",
    "    <td class=\"tg-yw4l\">0</td>\n",
    "    <td class=\"tg-yw4l\">1</td>\n",
    "    <td class=\"tg-yw4l\">0.170163</td>\n",
    "  </tr>\n",
    "  <tr>\n",
    "    <td class=\"tg-yw4l\">assists,deaths,gpm,hh</td>\n",
    "    <td class=\"tg-yw4l\">1</td>\n",
    "    <td class=\"tg-yw4l\">1</td>\n",
    "    <td class=\"tg-yw4l\">0</td>\n",
    "    <td class=\"tg-yw4l\">1</td>\n",
    "    <td class=\"tg-yw4l\">0</td>\n",
    "    <td class=\"tg-yw4l\">1</td>\n",
    "    <td class=\"tg-yw4l\">0</td>\n",
    "    <td class=\"tg-yw4l\">0</td>\n",
    "    <td class=\"tg-yw4l\">0</td>\n",
    "    <td class=\"tg-yw4l\">0.150208</td>\n",
    "  </tr>\n",
    "  <tr>\n",
    "    <td class=\"tg-yw4l\">deaths,denies,gpm,hh</td>\n",
    "    <td class=\"tg-yw4l\">0</td>\n",
    "    <td class=\"tg-yw4l\">1</td>\n",
    "    <td class=\"tg-yw4l\">1</td>\n",
    "    <td class=\"tg-yw4l\">1</td>\n",
    "    <td class=\"tg-yw4l\">0</td>\n",
    "    <td class=\"tg-yw4l\">1</td>\n",
    "    <td class=\"tg-yw4l\">0</td>\n",
    "    <td class=\"tg-yw4l\">0</td>\n",
    "    <td class=\"tg-yw4l\">0</td>\n",
    "    <td class=\"tg-yw4l\">0.149013</td>\n",
    "  </tr>\n",
    "  <tr>\n",
    "    <td class=\"tg-yw4l\">assists,deaths,denies,gpm,hh</td>\n",
    "    <td class=\"tg-yw4l\">1</td>\n",
    "    <td class=\"tg-yw4l\">1</td>\n",
    "    <td class=\"tg-yw4l\">1</td>\n",
    "    <td class=\"tg-yw4l\">1</td>\n",
    "    <td class=\"tg-yw4l\">0</td>\n",
    "    <td class=\"tg-yw4l\">1</td>\n",
    "    <td class=\"tg-yw4l\">0</td>\n",
    "    <td class=\"tg-yw4l\">0</td>\n",
    "    <td class=\"tg-yw4l\">0</td>\n",
    "    <td class=\"tg-yw4l\">0.145158</td>\n",
    "  </tr>\n",
    "  <tr>\n",
    "    <td class=\"tg-yw4l\">assists,deaths,hh,lh</td>\n",
    "    <td class=\"tg-yw4l\">1</td>\n",
    "    <td class=\"tg-yw4l\">1</td>\n",
    "    <td class=\"tg-yw4l\">0</td>\n",
    "    <td class=\"tg-yw4l\">0</td>\n",
    "    <td class=\"tg-yw4l\">0</td>\n",
    "    <td class=\"tg-yw4l\">1</td>\n",
    "    <td class=\"tg-yw4l\">0</td>\n",
    "    <td class=\"tg-yw4l\">1</td>\n",
    "    <td class=\"tg-yw4l\">0</td>\n",
    "    <td class=\"tg-yw4l\">0.130658</td>\n",
    "  </tr>\n",
    "  <tr>\n",
    "    <td class=\"tg-yw4l\">deaths,denies,hh,kills</td>\n",
    "    <td class=\"tg-yw4l\">0</td>\n",
    "    <td class=\"tg-yw4l\">1</td>\n",
    "    <td class=\"tg-yw4l\">1</td>\n",
    "    <td class=\"tg-yw4l\">0</td>\n",
    "    <td class=\"tg-yw4l\">0</td>\n",
    "    <td class=\"tg-yw4l\">1</td>\n",
    "    <td class=\"tg-yw4l\">1</td>\n",
    "    <td class=\"tg-yw4l\">0</td>\n",
    "    <td class=\"tg-yw4l\">0</td>\n",
    "    <td class=\"tg-yw4l\">0.119486</td>\n",
    "  </tr>\n",
    "  <tr>\n",
    "    <td class=\"tg-yw4l\">assists,deaths,hh,xpm</td>\n",
    "    <td class=\"tg-yw4l\">1</td>\n",
    "    <td class=\"tg-yw4l\">1</td>\n",
    "    <td class=\"tg-yw4l\">0</td>\n",
    "    <td class=\"tg-yw4l\">0</td>\n",
    "    <td class=\"tg-yw4l\">0</td>\n",
    "    <td class=\"tg-yw4l\">1</td>\n",
    "    <td class=\"tg-yw4l\">0</td>\n",
    "    <td class=\"tg-yw4l\">0</td>\n",
    "    <td class=\"tg-yw4l\">1</td>\n",
    "    <td class=\"tg-yw4l\">0.119165</td>\n",
    "  </tr>\n",
    "  <tr>\n",
    "    <td class=\"tg-yw4l\">assists,deaths,denies,hh</td>\n",
    "    <td class=\"tg-yw4l\">1</td>\n",
    "    <td class=\"tg-yw4l\">1</td>\n",
    "    <td class=\"tg-yw4l\">1</td>\n",
    "    <td class=\"tg-yw4l\">0</td>\n",
    "    <td class=\"tg-yw4l\">0</td>\n",
    "    <td class=\"tg-yw4l\">1</td>\n",
    "    <td class=\"tg-yw4l\">0</td>\n",
    "    <td class=\"tg-yw4l\">0</td>\n",
    "    <td class=\"tg-yw4l\">0</td>\n",
    "    <td class=\"tg-yw4l\">0.113329</td>\n",
    "  </tr>\n",
    "  <tr>\n",
    "    <td class=\"tg-yw4l\">Attribute Evaluation</td>\n",
    "    <td class=\"tg-yw4l\">44.661</td>\n",
    "    <td class=\"tg-yw4l\">100.000</td>\n",
    "    <td class=\"tg-yw4l\">47.281</td>\n",
    "    <td class=\"tg-yw4l\">43.021</td>\n",
    "    <td class=\"tg-yw4l\">0.000</td>\n",
    "    <td class=\"tg-yw4l\">100.000</td>\n",
    "    <td class=\"tg-yw4l\">8.104</td>\n",
    "    <td class=\"tg-yw4l\">8.861</td>\n",
    "    <td class=\"tg-yw4l\">32.328</td>\n",
    "    <td class=\"tg-yw4l\"></td>\n",
    "  </tr>\n",
    "</table>\n",
    "<div align=\"center\"><b><h4>Tabela 1 - Resultados retornados pelo GRASP</h4></b></div>"
   ]
  },
  {
   "cell_type": "markdown",
   "metadata": {
    "slideshow": {
     "slide_type": "subslide"
    }
   },
   "source": [
    "| Ranking |\n",
    "|:-------:|\n",
    "|  deaths |\n",
    "|    hh   |\n",
    "|  denies |\n",
    "| assists |\n",
    "|   gpm   |\n",
    "|   xpm   |\n",
    "|    lh   |\n",
    "|  kills  |\n",
    "|    hd   |\n",
    "<div align=\"center\"><b><h4>Tabela 2 - Ranking de avaliação dos atributos</h4></b></div>"
   ]
  },
  {
   "cell_type": "markdown",
   "metadata": {
    "slideshow": {
     "slide_type": "slide"
    }
   },
   "source": [
    "### Coeficiente de correlação tau de Kendall"
   ]
  },
  {
   "cell_type": "markdown",
   "metadata": {
    "slideshow": {
     "slide_type": "fragment"
    }
   },
   "source": [
    "- Usada para medir a correlação de postos entre duas quantidades medidas"
   ]
  },
  {
   "cell_type": "markdown",
   "metadata": {
    "slideshow": {
     "slide_type": "subslide"
    }
   },
   "source": [
    "- Considere $(x_{1},y_{1}), (x_{2},y_{2}), ... ,(x_{n},y_{n})$ um conjunto de observações das variáveis aleatórias conjuntas $X $ e $Y$ respectivamente, tal que todos os valores de $(x_{i})$ e $(y_{i})$ sejam únicos. Qualquer par de observações $(x_{i},y_{i})$ e $(x_{j},y_{j})$, em que $i \\neq j$, é concordante se as classificações de ambos os elementos concordarem uma com a outra, isto é, se $x_{i}>x_{j}$ e $y_{i}>y_{j}$ ou se $x_{i}<x_{j}$ e $y_{i}<y_{j}$. Elas são discordantes se $x_{i}>x_{j}$ e $y_{i}<y_{j}$ ou se $x_{i}<x_{j}$ e $y_{i}>y_{j}$. Se $x_{i}=x_{j}$ ou $y_{i}=y_{j}$, o par não é nem concordante, nem discordante.\n",
    "\n",
    "- O coeficiente $\\tau$ de Kendall é definido como:"
   ]
  },
  {
   "cell_type": "markdown",
   "metadata": {
    "slideshow": {
     "slide_type": "fragment"
    }
   },
   "source": [
    "$$\\tau = \\frac{(qnte\\ de\\ pares\\ concordantes) - (qnte\\ de\\ pares\\ discordantes)} {n(n - 1)\\ /\\ 2}$$"
   ]
  },
  {
   "cell_type": "markdown",
   "metadata": {
    "slideshow": {
     "slide_type": "subslide"
    }
   },
   "source": [
    "- O denominador é o número total de combinações de pares, então, o coeficiente deve estar no intervalo $-1\\leq \\tau \\leq 1$"
   ]
  },
  {
   "cell_type": "markdown",
   "metadata": {
    "slideshow": {
     "slide_type": "fragment"
    }
   },
   "source": [
    "- Se a concordância entre as duas classificações for perfeita (isto é, se as duas classificações forem iguais), o coeficiente tem valor 1\n"
   ]
  },
  {
   "cell_type": "markdown",
   "metadata": {
    "slideshow": {
     "slide_type": "fragment"
    }
   },
   "source": [
    "- Se a discordância entre as duas classificações for perfeita (isto é, se uma classificação for o reverso da outra), o coeficiente tem valor -1."
   ]
  },
  {
   "cell_type": "markdown",
   "metadata": {
    "slideshow": {
     "slide_type": "fragment"
    }
   },
   "source": [
    "- Se $X$ e $Y$ forem independentes, espera-se que o coeficiente seja próximo de zero."
   ]
  },
  {
   "cell_type": "markdown",
   "metadata": {
    "slideshow": {
     "slide_type": "subslide"
    }
   },
   "source": [
    "| Conjunto A                   | Conjunto B           | Kendall Tau       |\n",
    "|------------------------------|----------------------|-------------------|\n",
    "| assists,deaths,denies,gpm,hh | assists,deaths,kills | 0.56 |\n",
    "| assists,deaths,denies,gpm,hh | deaths,gpm,hh        | 0.67 |\n",
    "| assists,deaths,denies,gpm,hh | deaths,hh,xpm        | 0.63 |\n",
    "| assists,deaths,kills         | deaths,gpm,hh        | 0.35 |\n",
    "| assists,deaths,kills         | deaths,hh,xpm        | 0.35 |\n",
    "| deaths,gpm,hh                | deaths,hh,xpm        | 0.87 |\n",
    "\n",
    "<div align=\"center\"><b><h4>Tabela 3 - Kendall Tau dos conjuntos escolhidos pelo GRASP</h4></b></div>"
   ]
  },
  {
   "cell_type": "markdown",
   "metadata": {
    "slideshow": {
     "slide_type": "slide"
    }
   },
   "source": [
    "## Definição das métricas"
   ]
  },
  {
   "cell_type": "markdown",
   "metadata": {
    "slideshow": {
     "slide_type": "fragment"
    }
   },
   "source": [
    "$$f_{kda} = \\frac {assists + kills} {1 + deaths}$$"
   ]
  },
  {
   "cell_type": "markdown",
   "metadata": {
    "slideshow": {
     "slide_type": "fragment"
    }
   },
   "source": [
    "$$f_{adg} = \\frac {assists + denies + gpm + hh} {1 + deaths}$$"
   ]
  },
  {
   "cell_type": "markdown",
   "metadata": {
    "slideshow": {
     "slide_type": "fragment"
    }
   },
   "source": [
    "$$f_{g} = \\frac {gpm + hh} {1 + deaths}$$"
   ]
  },
  {
   "cell_type": "markdown",
   "metadata": {
    "slideshow": {
     "slide_type": "fragment"
    }
   },
   "source": [
    "$$f_{x} = \\frac {xpm + hh} {1 + deaths}$$"
   ]
  },
  {
   "cell_type": "markdown",
   "metadata": {
    "slideshow": {
     "slide_type": "slide"
    }
   },
   "source": [
    "## Próximos passos"
   ]
  },
  {
   "cell_type": "markdown",
   "metadata": {
    "slideshow": {
     "slide_type": "fragment"
    }
   },
   "source": [
    "- **Passo 1:** Avaliação da métrica\n",
    "- **Passo 2:** Redigir artigo"
   ]
  },
  {
   "cell_type": "markdown",
   "metadata": {
    "slideshow": {
     "slide_type": "fragment"
    }
   },
   "source": [
    "| Passos / Mês | Maio | Junho | Julho |\n",
    "|:------------:|:----:|:-----:|:-----:|\n",
    "|       1      |   X  |       |       |\n",
    "|       2      |      |   X   |   X   |\n",
    "  \n",
    "<div align=\"center\"><b><h4>Tabela 4 - Cronograma</h4></b></div>"
   ]
  },
  {
   "cell_type": "markdown",
   "metadata": {
    "slideshow": {
     "slide_type": "slide"
    }
   },
   "source": [
    "## Referências"
   ]
  },
  {
   "cell_type": "markdown",
   "metadata": {
    "slideshow": {
     "slide_type": "fragment"
    }
   },
   "source": [
    "- [Blog do Kunigami - GRASP]. Acesso em 13/05/2018\n",
    "  \n",
    "  \n",
    "- [Clever Algorithms - GRASP]. Acesso em 13/05/2018\n",
    "\n",
    "\n",
    "- [Wikipedia - Kendall rank correlation coefficient]. Acesso em 13/05/2018\n",
    "  \n",
    "\n",
    "- Site do projeto: https://gaabrielfranco.github.io/\n",
    "\n",
    "[Blog do Kunigami - GRASP]: <https://kuniga.wordpress.com/2010/09/03/grasp/>\n",
    "[Clever Algorithms - GRASP]:<http://www.cleveralgorithms.com/nature-inspired/stochastic/grasp.html>\n",
    "[Wikipedia - Kendall rank correlation coefficient]:<https://en.wikipedia.org/wiki/Kendall_rank_correlation_coefficient>\n"
   ]
  }
 ],
 "metadata": {
  "celltoolbar": "Slideshow",
  "kernelspec": {
   "display_name": "Python 3",
   "language": "python",
   "name": "python3"
  },
  "language_info": {
   "codemirror_mode": {
    "name": "ipython",
    "version": 3
   },
   "file_extension": ".py",
   "mimetype": "text/x-python",
   "name": "python",
   "nbconvert_exporter": "python",
   "pygments_lexer": "ipython3",
   "version": "3.6.5"
  }
 },
 "nbformat": 4,
 "nbformat_minor": 2
}

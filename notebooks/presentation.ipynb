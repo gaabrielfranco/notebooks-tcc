{
 "cells": [
  {
   "cell_type": "markdown",
   "metadata": {
    "slideshow": {
     "slide_type": "slide"
    }
   },
   "source": [
    "# Apresentação\n",
    "#### Gabriel Franco\n",
    "#### Universidade Federal de Viçosa"
   ]
  },
  {
   "cell_type": "markdown",
   "metadata": {
    "slideshow": {
     "slide_type": "slide"
    }
   },
   "source": [
    "## Sumário\n",
    "- Introdução\n",
    "    - DOTA2\n",
    "    - Abordagens e mudança\n",
    "    - Motivação e objetivos\n",
    "- Metodologia\n",
    "    - Tecnologias\n",
    "    - Métodos\n",
    "- Dificuldades\n",
    "- Resultados\n",
    "- Próximos passos\n",
    "- Referências"
   ]
  },
  {
   "cell_type": "markdown",
   "metadata": {
    "slideshow": {
     "slide_type": "slide"
    }
   },
   "source": [
    "## Introdução"
   ]
  },
  {
   "cell_type": "markdown",
   "metadata": {
    "slideshow": {
     "slide_type": "subslide"
    }
   },
   "source": [
    "### DOTA2"
   ]
  },
  {
   "cell_type": "markdown",
   "metadata": {
    "slideshow": {
     "slide_type": "fragment"
    }
   },
   "source": [
    "- DOTA2 é um jogo de MOBA (*Multiplayer online battle arena*) onde o jogador controla um personagem em uma batalha entre dois times de cinco jogadores cada, cujo objetivo é derrotar a base principal inimiga"
   ]
  },
  {
   "cell_type": "markdown",
   "metadata": {
    "slideshow": {
     "slide_type": "fragment"
    }
   },
   "source": [
    "- Cada jogador tem uma função específica (*carry*, *mid laner*, *support* e etc)"
   ]
  },
  {
   "cell_type": "markdown",
   "metadata": {
    "slideshow": {
     "slide_type": "fragment"
    }
   },
   "source": [
    "- No jogo, existem vários atributos que podem nos dar informações sobre cada jogador em uma partida. Vamos trabalhar com nove desses atributos. São eles:"
   ]
  },
  {
   "cell_type": "markdown",
   "metadata": {
    "slideshow": {
     "slide_type": "subslide"
    }
   },
   "source": [
    "| Nome do atributo | Nomenclatura utilizada nos experimentos |\n",
    "|:----------------:|:---------------------------------------:|\n",
    "|       kills      |                  kills                  |\n",
    "|      deaths      |                  deaths                 |\n",
    "|      assists     |                  assists                |\n",
    "|      denies      |                  denies                 |\n",
    "|    hero damage   |                    hd                   |\n",
    "|   hero healing   |                    hh                   |\n",
    "|     last hits    |                    lh                   |\n",
    "|  gold per minute |                   gpm                   |\n",
    "|   xp per minute  |                   xpm                   |"
   ]
  },
  {
   "cell_type": "markdown",
   "metadata": {
    "slideshow": {
     "slide_type": "subslide"
    }
   },
   "source": [
    "### Abordagens e mudanças"
   ]
  },
  {
   "cell_type": "markdown",
   "metadata": {
    "slideshow": {
     "slide_type": "fragment"
    }
   },
   "source": [
    "- A primeira abordagem que pensamos no trabalho foi a de usar redes complexas para tentar prever o comportamento de jogadores  e/ou times no DOTA2. Era basicamente a mesma abordagem do trabalho do [Pedro de Melo], professor do [DCC-UFMG]. Neste trabalho, ele prevê o comportamento de times da NBA utilizando redes complexas.\n",
    "\n",
    "[Pedro de Melo]: <http://dcc.ufmg.br/dcc/?q=en/node/236>\n",
    "[DCC-UFMG]: <http://dcc.ufmg.br/dcc/?q=pt-br>"
   ]
  },
  {
   "cell_type": "markdown",
   "metadata": {
    "slideshow": {
     "slide_type": "fragment"
    }
   },
   "source": [
    "- Essa primeira abordagem foi descartada depois de um tempo. O principal motivo é a falta de estudos e conhecimento prévio a cerca do problema, que não permite confiança nos modelos de análise de eficiência, como é utilizado no contexto do basquetebol pelo Pedro."
   ]
  },
  {
   "cell_type": "markdown",
   "metadata": {
    "slideshow": {
     "slide_type": "subslide"
    }
   },
   "source": [
    "### Motivação e objetivos"
   ]
  },
  {
   "cell_type": "markdown",
   "metadata": {
    "slideshow": {
     "slide_type": "fragment"
    }
   },
   "source": [
    "- **Objetivo:** Propor métricas para avaliar diferentes estilos e perfis de jogadores"
   ]
  },
  {
   "cell_type": "markdown",
   "metadata": {
    "slideshow": {
     "slide_type": "fragment"
    }
   },
   "source": [
    "- **Motivações**:\n",
    "    - Entusiasmo por *e-sports*\n",
    "    - Aprender a metodologia utilizada em um estudo científico\n",
    "    - Conhecimento e aplicação de mineração de dados em um problema real\n",
    "    - Possibilidade de virar um projeto de mestrado"
   ]
  },
  {
   "cell_type": "markdown",
   "metadata": {
    "slideshow": {
     "slide_type": "slide"
    }
   },
   "source": [
    "## Metodologia"
   ]
  },
  {
   "cell_type": "markdown",
   "metadata": {
    "slideshow": {
     "slide_type": "subslide"
    }
   },
   "source": [
    "### Tecnologias"
   ]
  },
  {
   "cell_type": "markdown",
   "metadata": {
    "slideshow": {
     "slide_type": "fragment"
    }
   },
   "source": [
    "- [Python3] com as seguintes bibliotecas:\n",
    "    - [Numpy]\n",
    "    - [Scipy]\n",
    "    - [Pandas]\n",
    "    - [Matplotlib]\n",
    "    - [Seaborn]\n",
    "    - [scikit-learn]  \n",
    "      \n",
    "- [Jupyter Notebook]\n",
    "\n",
    "[Python3]: <https://www.python.org/>\n",
    "[Numpy]: <http://www.numpy.org/>\n",
    "[Scipy]: <https://www.scipy.org/>\n",
    "[Pandas]: <https://pandas.pydata.org/>\n",
    "[Matplotlib]: <https://matplotlib.org/>\n",
    "[Seaborn]: <https://seaborn.pydata.org/>\n",
    "[scikit-learn]: <http://scikit-learn.org/stable/index.html>\n",
    "[Jupyter Notebook]: <http://jupyter.org/>"
   ]
  },
  {
   "cell_type": "markdown",
   "metadata": {
    "slideshow": {
     "slide_type": "subslide"
    }
   },
   "source": [
    "### Métodos"
   ]
  },
  {
   "cell_type": "markdown",
   "metadata": {
    "slideshow": {
     "slide_type": "fragment"
    }
   },
   "source": [
    "## Fazer um fluxograma"
   ]
  }
 ],
 "metadata": {
  "celltoolbar": "Slideshow",
  "kernelspec": {
   "display_name": "Python 3",
   "language": "python",
   "name": "python3"
  },
  "language_info": {
   "codemirror_mode": {
    "name": "ipython",
    "version": 3
   },
   "file_extension": ".py",
   "mimetype": "text/x-python",
   "name": "python",
   "nbconvert_exporter": "python",
   "pygments_lexer": "ipython3",
   "version": "3.6.5"
  }
 },
 "nbformat": 4,
 "nbformat_minor": 2
}

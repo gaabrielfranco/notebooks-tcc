{
 "cells": [
  {
   "cell_type": "markdown",
   "metadata": {
    "slideshow": {
     "slide_type": "slide"
    }
   },
   "source": [
    "# Utilização de mineração de dados para propor métricas de avaliação de jogadores de DOTA2\n",
    "#### Gabriel Franco\n",
    "#### Orientadores: Marcos Ribeiro e Giovanni Comarela"
   ]
  },
  {
   "cell_type": "markdown",
   "metadata": {
    "slideshow": {
     "slide_type": "slide"
    }
   },
   "source": [
    "## Sumário\n",
    "- Introdução\n",
    "    - DOTA2\n",
    "    - Abordagens e mudança\n",
    "    - Motivação e objetivos\n",
    "- Metodologia\n",
    "    - Tecnologias\n",
    "    - Métodos\n",
    "- Resultados\n",
    "- Próximos passos\n",
    "- Referências"
   ]
  },
  {
   "cell_type": "markdown",
   "metadata": {
    "slideshow": {
     "slide_type": "slide"
    }
   },
   "source": [
    "## Introdução"
   ]
  },
  {
   "cell_type": "markdown",
   "metadata": {
    "slideshow": {
     "slide_type": "subslide"
    }
   },
   "source": [
    "### DOTA2"
   ]
  },
  {
   "cell_type": "markdown",
   "metadata": {
    "slideshow": {
     "slide_type": "fragment"
    }
   },
   "source": [
    "- DOTA2 é um jogo de MOBA (*Multiplayer online battle arena*) onde o jogador controla um personagem em uma batalha entre dois times de cinco jogadores cada, cujo objetivo é derrotar a base principal inimiga"
   ]
  },
  {
   "cell_type": "markdown",
   "metadata": {
    "slideshow": {
     "slide_type": "fragment"
    }
   },
   "source": [
    "- Cada jogador tem uma função específica (*carry*, *mid laner*, *support* e etc)"
   ]
  },
  {
   "cell_type": "markdown",
   "metadata": {
    "slideshow": {
     "slide_type": "fragment"
    }
   },
   "source": [
    "- No jogo, existem vários atributos que podem nos dar informações sobre cada jogador em uma partida. Vamos trabalhar com nove desses atributos. São eles:"
   ]
  },
  {
   "cell_type": "markdown",
   "metadata": {
    "slideshow": {
     "slide_type": "subslide"
    }
   },
   "source": [
    "| Nome do atributo | Nomenclatura utilizada nos experimentos |\n",
    "|:----------------:|:---------------------------------------:|\n",
    "|       kills      |                  kills                  |\n",
    "|      deaths      |                  deaths                 |\n",
    "|      assists     |                  assists                |\n",
    "|      denies      |                  denies                 |\n",
    "|    hero damage   |                    hd                   |\n",
    "|   hero healing   |                    hh                   |\n",
    "|     last hits    |                    lh                   |\n",
    "|  gold per minute |                   gpm                   |\n",
    "|   xp per minute  |                   xpm                   |\n",
    "  \n",
    "  \n",
    "<div align=\"center\"><b><h4>Tabela 1 - Atributos utilizados e suas respectivas nomenclaturas</h4></b></div>"
   ]
  },
  {
   "cell_type": "markdown",
   "metadata": {
    "slideshow": {
     "slide_type": "subslide"
    }
   },
   "source": [
    "### Abordagens e mudanças"
   ]
  },
  {
   "cell_type": "markdown",
   "metadata": {
    "slideshow": {
     "slide_type": "fragment"
    }
   },
   "source": [
    "- A primeira abordagem que pensamos no trabalho foi a de usar redes complexas para tentar prever o comportamento de jogadores  e/ou times no DOTA2. Era basicamente a mesma abordagem do trabalho do [Pedro de Melo], professor do [DCC-UFMG]. Neste trabalho, ele prevê o comportamento de times da NBA utilizando redes complexas.\n",
    "\n",
    "[Pedro de Melo]: <http://dcc.ufmg.br/dcc/?q=en/node/236>\n",
    "[DCC-UFMG]: <http://dcc.ufmg.br/dcc/?q=pt-br>"
   ]
  },
  {
   "cell_type": "markdown",
   "metadata": {
    "slideshow": {
     "slide_type": "fragment"
    }
   },
   "source": [
    "- Foi nessa parte que a base de dados foi montada e algumas análises preliminares foram feitas"
   ]
  },
  {
   "cell_type": "markdown",
   "metadata": {
    "slideshow": {
     "slide_type": "fragment"
    }
   },
   "source": [
    "- Essa primeira abordagem foi descartada. O principal motivo é a falta de estudos e conhecimento prévio acerca do problema, que não permite confiança nos modelos de análise de eficiência, como é utilizado no contexto do basquetebol pelo Pedro."
   ]
  },
  {
   "cell_type": "markdown",
   "metadata": {
    "slideshow": {
     "slide_type": "subslide"
    }
   },
   "source": [
    "### Motivação e objetivos"
   ]
  },
  {
   "cell_type": "markdown",
   "metadata": {
    "slideshow": {
     "slide_type": "fragment"
    }
   },
   "source": [
    "- **Objetivo:** Propor métricas para avaliar diferentes estilos e perfis de jogadores"
   ]
  },
  {
   "cell_type": "markdown",
   "metadata": {
    "slideshow": {
     "slide_type": "fragment"
    }
   },
   "source": [
    "- **Motivações**:\n",
    "    - Entusiasmo por *e-sports*\n",
    "    - Aprender a metodologia utilizada em um estudo científico\n",
    "    - Conhecimento e aplicação de mineração de dados em um problema real\n",
    "    - Possibilidade de virar um projeto de mestrado"
   ]
  },
  {
   "cell_type": "markdown",
   "metadata": {
    "slideshow": {
     "slide_type": "slide"
    }
   },
   "source": [
    "## Metodologia"
   ]
  },
  {
   "cell_type": "markdown",
   "metadata": {
    "slideshow": {
     "slide_type": "subslide"
    }
   },
   "source": [
    "### Tecnologias"
   ]
  },
  {
   "cell_type": "markdown",
   "metadata": {
    "slideshow": {
     "slide_type": "fragment"
    }
   },
   "source": [
    "- [Python3] com as seguintes bibliotecas:\n",
    "    - [Numpy]\n",
    "    - [Scipy]\n",
    "    - [Pandas]\n",
    "    - [Matplotlib]\n",
    "    - [Seaborn]\n",
    "    - [scikit-learn]  \n",
    "      \n",
    "- [Jupyter Notebook]\n",
    "\n",
    "[Python3]: <https://www.python.org/>\n",
    "[Numpy]: <http://www.numpy.org/>\n",
    "[Scipy]: <https://www.scipy.org/>\n",
    "[Pandas]: <https://pandas.pydata.org/>\n",
    "[Matplotlib]: <https://matplotlib.org/>\n",
    "[Seaborn]: <https://seaborn.pydata.org/>\n",
    "[scikit-learn]: <http://scikit-learn.org/stable/index.html>\n",
    "[Jupyter Notebook]: <http://jupyter.org/>"
   ]
  },
  {
   "cell_type": "markdown",
   "metadata": {
    "slideshow": {
     "slide_type": "subslide"
    }
   },
   "source": [
    "### Métodos"
   ]
  },
  {
   "cell_type": "markdown",
   "metadata": {
    "slideshow": {
     "slide_type": "subslide"
    }
   },
   "source": [
    "![title](data/Workflow.png)\n",
    "\n",
    "<div align=\"center\"><b><h4>Figura 1 - Workflow</h4></b></div>"
   ]
  },
  {
   "cell_type": "markdown",
   "metadata": {
    "slideshow": {
     "slide_type": "slide"
    }
   },
   "source": [
    "## Resultados"
   ]
  },
  {
   "cell_type": "markdown",
   "metadata": {
    "slideshow": {
     "slide_type": "subslide"
    }
   },
   "source": [
    "### Nomenclatura utilizada nos experimentos"
   ]
  },
  {
   "cell_type": "markdown",
   "metadata": {
    "slideshow": {
     "slide_type": "fragment"
    }
   },
   "source": [
    "| Nome do experimento | Atributos |\n",
    "|:-------------------:|:---------:|\n",
    "|         kda         |   \"kills\", \"deaths\", \"assists\"   |\n",
    "|         all         |   \"kills\", \"deaths\", \"assists\", \"denies\", \"gpm\", \"hd\", \"hh\", \"lh\", \"xpm\"   |\n",
    "|        kills        |  \"kills\"  |\n",
    "|        deaths       |  \"deaths\" |\n",
    "|       assists       | \"assists\" |\n",
    "|        denies       |  \"denies\" |\n",
    "|         gpm         |   \"gpm\"   |\n",
    "|          hh         |    \"hh\"   |\n",
    "|          hd         |    \"hd\"   |\n",
    "|          lh         |    \"lh\"   |\n",
    "|         xpm         |   \"xpm\"   |  \n",
    "\n",
    "<div align=\"center\"><b><h4>Tabela 2 - Experimentos realizados e os atributos utilizados em cada um deles</h4></b></div>"
   ]
  },
  {
   "cell_type": "markdown",
   "metadata": {
    "slideshow": {
     "slide_type": "subslide"
    }
   },
   "source": [
    "### Tem alguma coisa errada nisso..."
   ]
  },
  {
   "cell_type": "markdown",
   "metadata": {
    "slideshow": {
     "slide_type": "subslide"
    }
   },
   "source": [
    "![title](data/assists-corr_pie.png)\n",
    "\n",
    "<div align=\"center\"><b><h4>Figura 2 - Clusters com o experimento \"assists-corr\" utilizando o k-means com $k = [3, 4, 5]$</h4></b></div>"
   ]
  },
  {
   "cell_type": "markdown",
   "metadata": {
    "slideshow": {
     "slide_type": "subslide"
    }
   },
   "source": [
    "### Análise do melhor valor de k para o k-means"
   ]
  },
  {
   "cell_type": "markdown",
   "metadata": {
    "slideshow": {
     "slide_type": "subslide"
    }
   },
   "source": [
    "![title](data/inertia_x_k.png)\n",
    "\n",
    "<div align=\"center\"><b><h4>Figura 3 - Gráfico da inércia x $k$, com $k = [3,...,100]$</h4></b></div>"
   ]
  },
  {
   "cell_type": "markdown",
   "metadata": {
    "slideshow": {
     "slide_type": "subslide"
    }
   },
   "source": [
    "### Poda de outliers"
   ]
  },
  {
   "cell_type": "markdown",
   "metadata": {
    "slideshow": {
     "slide_type": "subslide"
    }
   },
   "source": [
    "![title](data/boxplot.png)\n",
    "\n",
    "<div align=\"center\"><b><h4>Figura 4 - Exemplo do IQR para uma distribuição normal. Fonte: \n",
    "<a href=\"https://pt.wikipedia.org/wiki/Amplitude_interquartil\">Wikipedia</a>. Acesso em 04/04/2018</h4></b></div>"
   ]
  },
  {
   "cell_type": "markdown",
   "metadata": {
    "slideshow": {
     "slide_type": "subslide"
    }
   },
   "source": [
    "#### Sumário da poda de outliers\n",
    "\n",
    "Número de outliers:\n",
    "- $2862$  \n",
    "  \n",
    "Número de outliers em $\\{1, ..., 9\\}$ atributos:   \n",
    "- $\\{2463, 307, 64, 19, 8, 1, 0, 0, 0\\}$\n",
    "  \n",
    "Número de outliers por atributo:   \n",
    "- $kills: 237$\n",
    "- $deaths: 397$  \n",
    "- $assists: 392$  \n",
    "- $denies: 437$  \n",
    "- $gpm: 56$  \n",
    "- $hd: 563$  \n",
    "- $hh: 1177$ \n",
    "- $lh: 85$  \n",
    "- $xpm: 47$  "
   ]
  },
  {
   "cell_type": "markdown",
   "metadata": {
    "slideshow": {
     "slide_type": "subslide"
    }
   },
   "source": [
    "### Análise da correlação e da distribuição dos atributos"
   ]
  },
  {
   "cell_type": "markdown",
   "metadata": {
    "slideshow": {
     "slide_type": "subslide"
    }
   },
   "source": [
    "![title](data/scatter_matrix_manual.png)\n",
    "\n",
    "<div align=\"center\"><b><h4>Figura 5 - Scatter Matrix</h4></b></div>"
   ]
  },
  {
   "cell_type": "markdown",
   "metadata": {
    "slideshow": {
     "slide_type": "subslide"
    }
   },
   "source": [
    "| Nome do experimento | Atributos |\n",
    "|:-------------------:|:---------:|\n",
    "| kills-corr          \t| \"kills\", \"assists\", \"deaths\", \"hh\", \"gpm\"  \t|\n",
    "| deaths-corr         \t| \"deaths\", \"hh\", \"hd\", \"gpm\", \"assists\"     \t|\n",
    "| assists-corr        \t| \"assists\", \"kills\", \"gpm\", \"lh\", \"xpm\"    \t|\n",
    "| denies-corr         \t| \"denies\", \"assists\", \"gpm\", \"hh\", \"deaths\" \t|\n",
    "| gpm-corr            \t| \"gpm\", \"assists\", \"hh\", \"deaths\", \"denies\" \t|\n",
    "| hh-corr             \t| \"hh\", \"deaths\", \"gpm\", \"hd\", \"xpm\"         \t|\n",
    "| hd-corr             \t| \"hd\", \"deaths\", \"hh\", \"assists\", \"gpm\"     \t|\n",
    "| lh-corr             \t| \"lh\", \"assists\", \"deaths\", \"gpm\", \"hh\"     \t|\n",
    "| xpm-corr            \t| \"xpm\", \"assists\", \"deaths\" ,\"gpm\", \"hh\"    \t|\n",
    "\n",
    "<div align=\"center\"><b><h4>Tabela 3 - Experimentos utilizando correlação realizados e os atributos utilizados em cada um deles</h4></b></div>"
   ]
  },
  {
   "cell_type": "markdown",
   "metadata": {
    "slideshow": {
     "slide_type": "subslide"
    }
   },
   "source": [
    "### Clusterização"
   ]
  },
  {
   "cell_type": "markdown",
   "metadata": {
    "slideshow": {
     "slide_type": "subslide"
    }
   },
   "source": [
    "![title](data/all_pie.png)\n",
    "\n",
    "<div align=\"center\"><b><h4>Figura 6 - Clusters com o experimento \"all\" utilizando o k-means com $k = [3, 4, 5, 10]$</h4></b></div>"
   ]
  },
  {
   "cell_type": "markdown",
   "metadata": {
    "slideshow": {
     "slide_type": "subslide"
    }
   },
   "source": [
    "![title](data/inertia-wo.png)\n",
    "\n",
    "<div align=\"center\"><b><h4>Figura 7 - Inércia para cada experimento</h4></b></div>"
   ]
  },
  {
   "cell_type": "markdown",
   "metadata": {
    "slideshow": {
     "slide_type": "subslide"
    }
   },
   "source": [
    "![title](data/silhouette_score-wo.png)\n",
    "\n",
    "<div align=\"center\"><b><h4>Figura 8 - Coeficiente de silhueta médio para cada experimento</h4></b></div>"
   ]
  },
  {
   "cell_type": "markdown",
   "metadata": {
    "slideshow": {
     "slide_type": "subslide"
    }
   },
   "source": [
    "![title](data/silhouette_score_all_10.png)\n",
    "\n",
    "<div align=\"center\"><b><h4>Figura 9 - Valores do coeficiente de silhueta de cada jogador por cluster utilizando o experimento \"all\" com $k = 10$</h4></b></div>"
   ]
  },
  {
   "cell_type": "markdown",
   "metadata": {
    "slideshow": {
     "slide_type": "subslide"
    }
   },
   "source": [
    "### Análise dos centróides"
   ]
  },
  {
   "cell_type": "markdown",
   "metadata": {
    "slideshow": {
     "slide_type": "subslide"
    }
   },
   "source": [
    "![title](data/radar_plot_all_10.png)\n",
    "\n",
    "<div align=\"center\"><b><h4>Figura 10 - Gráfico de radar dos centróides do experimento \"all\" com $k = 10$</h4></b></div>"
   ]
  },
  {
   "cell_type": "markdown",
   "metadata": {
    "slideshow": {
     "slide_type": "subslide"
    }
   },
   "source": [
    "![title](data/all_3_C1.png)\n",
    "\n",
    "<div align=\"center\"><b><h4>Figura 11 - Mapa de calor mostrando os atributos de dez jogadores aleatórios e da distância euclidiana com os atributos normalizados de cada um para o centróide utilizando o experimento \"all\" com $k = 3$</h4></b></div>"
   ]
  },
  {
   "cell_type": "markdown",
   "metadata": {
    "slideshow": {
     "slide_type": "subslide"
    }
   },
   "source": [
    "### Análise de $f(jogador) = \\frac{K + A}{D}$"
   ]
  },
  {
   "cell_type": "markdown",
   "metadata": {
    "slideshow": {
     "slide_type": "subslide"
    }
   },
   "source": [
    "![title](data/f-analysis-pruned.png)\n",
    "\n",
    "<div align=\"center\"><b><h4>Figura 12 - Valor de $f_{medio} = \\frac{\\sum_{i=1}^{N} \\frac{K_i + A_i}{D_i}}{N}$ em cada experimento </h4></b></div>"
   ]
  },
  {
   "cell_type": "markdown",
   "metadata": {
    "slideshow": {
     "slide_type": "subslide"
    }
   },
   "source": [
    "### PCA (Principal Component Analysis)"
   ]
  },
  {
   "cell_type": "markdown",
   "metadata": {
    "slideshow": {
     "slide_type": "subslide"
    }
   },
   "source": [
    "![title](data/Variance.png)\n",
    "\n",
    "<div align=\"center\"><b><h4>Figura 13 - Variância explicada em cada componente do PCA </h4></b></div>"
   ]
  },
  {
   "cell_type": "markdown",
   "metadata": {
    "slideshow": {
     "slide_type": "subslide"
    }
   },
   "source": [
    "![title](data/1st eigenvector_2nd eigenvector.png)\n",
    "\n",
    "<div align=\"center\"><b><h4>Figura 14 - Gráfico Hexbin utilizando o primeiro e o segundo autovetor encontrado no PCA </h4></b></div>"
   ]
  },
  {
   "cell_type": "markdown",
   "metadata": {
    "slideshow": {
     "slide_type": "slide"
    }
   },
   "source": [
    "## Próximos passos"
   ]
  },
  {
   "cell_type": "markdown",
   "metadata": {
    "slideshow": {
     "slide_type": "fragment"
    }
   },
   "source": [
    "- **Passo 1:** Seleção de atributos com PCA  \n",
    "- **Passo 2:** Propor uma métrica e avaliá-la (pode incluir vários passos)  \n",
    "- **Passo 3:** Redigir artigo"
   ]
  },
  {
   "cell_type": "markdown",
   "metadata": {
    "slideshow": {
     "slide_type": "fragment"
    }
   },
   "source": [
    "| Passos / Mês | Fevereiro | Março | Abril | Maio | Junho | Julho |\n",
    "|:------------:|:---------:|:-----:|:-----:|:----:|:-----:|:-----:|\n",
    "|       0      |     X     |   X   |       |      |       |       |\n",
    "|       1      |           |       |   X   |      |       |       |\n",
    "|       2      |           |       |   X   |   X  |   X   |   X   |\n",
    "|       3      |           |       |   X   |   X  |   X   |   X   |  \n",
    "  \n",
    "<div align=\"center\"><b><h4>Tabela 4 - Cronograma</h4></b></div>"
   ]
  },
  {
   "cell_type": "markdown",
   "metadata": {
    "slideshow": {
     "slide_type": "slide"
    }
   },
   "source": [
    "## Referências"
   ]
  },
  {
   "cell_type": "markdown",
   "metadata": {
    "slideshow": {
     "slide_type": "fragment"
    }
   },
   "source": [
    "- [DOTA2 Wiki]. Acesso em 04/08/2018\n",
    "\n",
    "[DOTA2 Wiki]: <https://dota2.gamepedia.com/Dota_2_Wiki>\n",
    "\n",
    "\n",
    "- Site do projeto: https://gaabrielfranco.github.io/\n",
    "\n",
    "**Agradecimento especial ao Felipe Dias pela ajuda com o DOTA2**"
   ]
  },
  {
   "cell_type": "code",
   "execution_count": null,
   "metadata": {},
   "outputs": [],
   "source": []
  }
 ],
 "metadata": {
  "celltoolbar": "Slideshow",
  "kernelspec": {
   "display_name": "Python 3",
   "language": "python",
   "name": "python3"
  },
  "language_info": {
   "codemirror_mode": {
    "name": "ipython",
    "version": 3
   },
   "file_extension": ".py",
   "mimetype": "text/x-python",
   "name": "python",
   "nbconvert_exporter": "python",
   "pygments_lexer": "ipython3",
   "version": "3.6.5"
  }
 },
 "nbformat": 4,
 "nbformat_minor": 2
}
